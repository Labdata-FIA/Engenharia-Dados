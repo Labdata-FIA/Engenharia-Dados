{
 "cells": [
  {
   "cell_type": "markdown",
   "metadata": {
    "application/vnd.databricks.v1+cell": {
     "cellMetadata": {},
     "inputWidgets": {},
     "nuid": "4c7016aa-4018-4def-9831-135445dfb10b",
     "showTitle": false,
     "tableResultSettingsMap": {},
     "title": ""
    }
   },
   "source": [
    "# Python"
   ]
  },
  {
   "cell_type": "markdown",
   "metadata": {
    "application/vnd.databricks.v1+cell": {
     "cellMetadata": {},
     "inputWidgets": {},
     "nuid": "b57b9d66-f4da-4fa7-8cd8-c5bfac96b5e4",
     "showTitle": false,
     "tableResultSettingsMap": {},
     "title": ""
    }
   },
   "source": [
    "## 1. Introdução ao Python\n",
    "\n",
    "- Linguagem multiparadigma (imperativo, orientado a objetos, funcional).\n",
    "- Sintaxe simples, indentação obrigatória.\n",
    "- Execução interativa em notebooks facilita a prática."
   ]
  },
  {
   "cell_type": "code",
   "execution_count": 0,
   "metadata": {
    "application/vnd.databricks.v1+cell": {
     "cellMetadata": {},
     "inputWidgets": {},
     "nuid": "26fc17e9-1636-4e88-914f-06fbb4497915",
     "showTitle": false,
     "tableResultSettingsMap": {},
     "title": ""
    }
   },
   "outputs": [],
   "source": [
    "print(\"Olá, Python!\")"
   ]
  },
  {
   "cell_type": "markdown",
   "metadata": {
    "application/vnd.databricks.v1+cell": {
     "cellMetadata": {},
     "inputWidgets": {},
     "nuid": "d8894d8a-572c-40c9-b9e4-22636fdaeb36",
     "showTitle": false,
     "tableResultSettingsMap": {},
     "title": ""
    }
   },
   "source": [
    "## 2. Tipos de Dados e Variáveis\n",
    "\n",
    "Tipos básicos:\n",
    "- `int`, `float`\n",
    "- `str`\n",
    "- `bool` (`True`/`False`)\n",
    "- Coleções: `list`, `tuple`, `set`, `dict` (introdução)\n",
    "\n",
    "Criação de variáveis"
   ]
  },
  {
   "cell_type": "code",
   "execution_count": 0,
   "metadata": {
    "application/vnd.databricks.v1+cell": {
     "cellMetadata": {},
     "inputWidgets": {},
     "nuid": "5294d980-03a3-4d6e-acf2-573859bf8511",
     "showTitle": false,
     "tableResultSettingsMap": {},
     "title": ""
    }
   },
   "outputs": [],
   "source": [
    "# Escreva seu código aqui\n",
    "nome = \"Seu Nome\"\n",
    "idade = 30\n",
    "altura = 1.75\n",
    "\n",
    "print(f\"Meu nome é {nome}, tenho {idade} anos e {altura}m de altura.\")"
   ]
  },
  {
   "cell_type": "markdown",
   "metadata": {
    "application/vnd.databricks.v1+cell": {
     "cellMetadata": {},
     "inputWidgets": {},
     "nuid": "1f864ca4-a4d8-416c-9d83-a986ca01d0a0",
     "showTitle": false,
     "tableResultSettingsMap": {},
     "title": ""
    }
   },
   "source": [
    "Criação de uma lista com 5 números e calcule a média aritmética."
   ]
  },
  {
   "cell_type": "code",
   "execution_count": 0,
   "metadata": {
    "application/vnd.databricks.v1+cell": {
     "cellMetadata": {},
     "inputWidgets": {},
     "nuid": "616128bc-9468-4430-ab19-2603a858f930",
     "showTitle": false,
     "tableResultSettingsMap": {},
     "title": ""
    }
   },
   "outputs": [],
   "source": [
    "# Escreva seu código aqui\n",
    "numeros = [10, 8, 7, 9, 6]\n",
    "media = sum(numeros) / len(numeros)\n",
    "print(\"Média:\", media)"
   ]
  },
  {
   "cell_type": "markdown",
   "metadata": {
    "application/vnd.databricks.v1+cell": {
     "cellMetadata": {},
     "inputWidgets": {},
     "nuid": "5bd079fe-3310-4b2a-a998-c65ca309688d",
     "showTitle": false,
     "tableResultSettingsMap": {},
     "title": ""
    }
   },
   "source": [
    "## 3. Operadores e Estruturas de Controle\n",
    "\n",
    "- Operadores aritméticos, relacionais e lógicos\n",
    "- Condicionais: `if / elif / else`\n",
    "- Laços: `for`, `while`\n",
    "- Funções úteis: `range`, `enumerate`\n",
    "\n",
    "\n",
    "Lendo um número e imprimir se é **par** ou **ímpar**."
   ]
  },
  {
   "cell_type": "code",
   "execution_count": 0,
   "metadata": {
    "application/vnd.databricks.v1+cell": {
     "cellMetadata": {},
     "inputWidgets": {},
     "nuid": "d86d51c4-b480-4d52-a55b-0595c0bb28f7",
     "showTitle": false,
     "tableResultSettingsMap": {},
     "title": ""
    }
   },
   "outputs": [],
   "source": [
    "# Escreva seu código aqui\n",
    "n = 17\n",
    "if n % 2 == 0:\n",
    "    print(f\"{n} é par\")\n",
    "else:\n",
    "    print(f\"{n} é ímpar\")"
   ]
  },
  {
   "cell_type": "markdown",
   "metadata": {
    "application/vnd.databricks.v1+cell": {
     "cellMetadata": {},
     "inputWidgets": {},
     "nuid": "e67af595-d88d-4706-bd4c-438f1e7cac8f",
     "showTitle": false,
     "tableResultSettingsMap": {},
     "title": ""
    }
   },
   "source": [
    "Usando um laço para somar os números de 1 a 100."
   ]
  },
  {
   "cell_type": "code",
   "execution_count": 0,
   "metadata": {
    "application/vnd.databricks.v1+cell": {
     "cellMetadata": {},
     "inputWidgets": {},
     "nuid": "48df5220-c884-4328-83f8-a1d4b51706ca",
     "showTitle": false,
     "tableResultSettingsMap": {},
     "title": ""
    }
   },
   "outputs": [],
   "source": [
    "# Escreva seu código aqui\n",
    "soma = 0\n",
    "for i in range(1, 101):\n",
    "    soma += i\n",
    "print(\"Soma de 1 a 100:\", soma)"
   ]
  },
  {
   "cell_type": "markdown",
   "metadata": {
    "application/vnd.databricks.v1+cell": {
     "cellMetadata": {},
     "inputWidgets": {},
     "nuid": "510111d5-701e-4be0-8ac4-83ab5f4dfde6",
     "showTitle": false,
     "tableResultSettingsMap": {},
     "title": ""
    }
   },
   "source": [
    "Peça a senha até o usuário acertar (simule com uma variável)."
   ]
  },
  {
   "cell_type": "code",
   "execution_count": 0,
   "metadata": {
    "application/vnd.databricks.v1+cell": {
     "cellMetadata": {},
     "inputWidgets": {},
     "nuid": "84e5043a-b9aa-42f0-baad-6b179ae4ed35",
     "showTitle": false,
     "tableResultSettingsMap": {},
     "title": ""
    }
   },
   "outputs": [],
   "source": [
    "senha_correta = \"python123\"\n",
    "tentativa = \"\"\n",
    "while tentativa != senha_correta:\n",
    "    tentativa = input(\"Digite a senha: \")\n",
    "print(\"Acesso permitido!\")"
   ]
  },
  {
   "cell_type": "markdown",
   "metadata": {
    "application/vnd.databricks.v1+cell": {
     "cellMetadata": {},
     "inputWidgets": {},
     "nuid": "dbf9028e-5e4e-4ce1-9f7b-3c7ae992312b",
     "showTitle": false,
     "tableResultSettingsMap": {},
     "title": ""
    }
   },
   "source": [
    "## 4. Funções\n",
    "\n",
    "- Definição com `def`\n",
    "- Parâmetros, padrões, `*args`, `**kwargs`\n",
    "- Retorno de valores\n",
    "\n",
    "Implementando `media(lista)` que retorna a média dos números."
   ]
  },
  {
   "cell_type": "code",
   "execution_count": 0,
   "metadata": {
    "application/vnd.databricks.v1+cell": {
     "cellMetadata": {},
     "inputWidgets": {},
     "nuid": "1f94a661-fd17-4d3d-981a-1f56082026dd",
     "showTitle": false,
     "tableResultSettingsMap": {},
     "title": ""
    }
   },
   "outputs": [],
   "source": [
    "def media(lista):\n",
    "    return sum(lista) / len(lista) if lista else 0.0\n",
    "\n",
    "print(media([1, 2, 3, 4]))"
   ]
  },
  {
   "cell_type": "markdown",
   "metadata": {
    "application/vnd.databricks.v1+cell": {
     "cellMetadata": {},
     "inputWidgets": {},
     "nuid": "a7fe7a24-d7f9-43fb-b9a9-152e374f9789",
     "showTitle": false,
     "tableResultSettingsMap": {},
     "title": ""
    }
   },
   "source": [
    "Implementando `par_ou_impar(num)` que retorna `\"par\"` ou `\"ímpar\"`."
   ]
  },
  {
   "cell_type": "code",
   "execution_count": 0,
   "metadata": {
    "application/vnd.databricks.v1+cell": {
     "cellMetadata": {},
     "inputWidgets": {},
     "nuid": "ab3d8243-7e76-4ab8-8216-e70019d17f4e",
     "showTitle": false,
     "tableResultSettingsMap": {},
     "title": ""
    }
   },
   "outputs": [],
   "source": [
    "def par_ou_impar(num:int) -> str:\n",
    "    return \"par\" if num % 2 == 0 else \"ímpar\"\n",
    "\n",
    "print(par_ou_impar(10), par_ou_impar(7))"
   ]
  },
  {
   "cell_type": "markdown",
   "metadata": {
    "application/vnd.databricks.v1+cell": {
     "cellMetadata": {},
     "inputWidgets": {},
     "nuid": "2511432f-9836-4f51-9336-a4afcfe68230",
     "showTitle": false,
     "tableResultSettingsMap": {},
     "title": ""
    }
   },
   "source": [
    "Implementando `saudacao(nome=\"visitante\")`."
   ]
  },
  {
   "cell_type": "code",
   "execution_count": 0,
   "metadata": {
    "application/vnd.databricks.v1+cell": {
     "cellMetadata": {},
     "inputWidgets": {},
     "nuid": "3eeaad93-f192-4adb-8c52-3db69314a98d",
     "showTitle": false,
     "tableResultSettingsMap": {},
     "title": ""
    }
   },
   "outputs": [],
   "source": [
    "def saudacao(nome=\"visitante\"):\n",
    "    return f\"Olá, {nome}!\"\n",
    "\n",
    "print(saudacao())\n",
    "print(saudacao(\"Rafael\"))"
   ]
  },
  {
   "cell_type": "markdown",
   "metadata": {
    "application/vnd.databricks.v1+cell": {
     "cellMetadata": {},
     "inputWidgets": {},
     "nuid": "8dac6d22-46dc-4adb-995b-8878a5ae2dbc",
     "showTitle": false,
     "tableResultSettingsMap": {},
     "title": ""
    }
   },
   "source": [
    "## 5. Estruturas de Dados\n",
    "\n",
    "### Listas\n",
    "- Métodos: `append`, `remove`, `pop`\n",
    "- *Slicing* e compreensão de listas\n",
    "\n",
    "### Dicionários\n",
    "- Acesso por chave, `keys`, `values`, `items`\n",
    "\n",
    "### Conjuntos (*sets*)\n",
    "- União, interseção, diferença\n",
    "\n",
    "Criando uma lista de notas e imprima média, maior e menor nota."
   ]
  },
  {
   "cell_type": "code",
   "execution_count": 0,
   "metadata": {
    "application/vnd.databricks.v1+cell": {
     "cellMetadata": {},
     "inputWidgets": {},
     "nuid": "1a8eda45-4f5f-49da-9a42-70cf69a778d9",
     "showTitle": false,
     "tableResultSettingsMap": {},
     "title": ""
    }
   },
   "outputs": [],
   "source": [
    "notas = [8.5, 7.0, 9.2, 6.8, 10.0]\n",
    "print(\"Média:\", sum(notas)/len(notas))\n",
    "print(\"Maior:\", max(notas))\n",
    "print(\"Menor:\", min(notas))"
   ]
  },
  {
   "cell_type": "markdown",
   "metadata": {
    "application/vnd.databricks.v1+cell": {
     "cellMetadata": {},
     "inputWidgets": {},
     "nuid": "9c87c5f4-fcea-4528-a557-0d5f82be31fa",
     "showTitle": false,
     "tableResultSettingsMap": {},
     "title": ""
    }
   },
   "source": [
    "Criando um dicionário com `nome`, `idade`, `cidade` e imprima chaves e valores."
   ]
  },
  {
   "cell_type": "code",
   "execution_count": 0,
   "metadata": {
    "application/vnd.databricks.v1+cell": {
     "cellMetadata": {},
     "inputWidgets": {},
     "nuid": "049ffafd-ffc8-4cdb-a6bc-3d4cb5037b51",
     "showTitle": false,
     "tableResultSettingsMap": {},
     "title": ""
    },
    "jupyter": {
     "is_executing": true
    }
   },
   "outputs": [],
   "source": [
    "pessoa = {\"nome\":\"Ana\", \"idade\":28, \"cidade\":\"São Paulo\"}\n",
    "print(\"Chaves:\", list(pessoa.keys()))\n",
    "print(\"Valores:\", list(pessoa.values()))\n",
    "for k, v in pessoa.items():\n",
    "    print(f\"{k}: {v}\")"
   ]
  },
  {
   "cell_type": "markdown",
   "metadata": {
    "application/vnd.databricks.v1+cell": {
     "cellMetadata": {},
     "inputWidgets": {},
     "nuid": "ff892305-8a93-4596-b8e4-a47839cda8a8",
     "showTitle": false,
     "tableResultSettingsMap": {},
     "title": ""
    }
   },
   "source": [
    "Criando dois conjuntos de alunos e imprima a interseção."
   ]
  },
  {
   "cell_type": "code",
   "execution_count": 0,
   "metadata": {
    "application/vnd.databricks.v1+cell": {
     "cellMetadata": {},
     "inputWidgets": {},
     "nuid": "10b31eeb-528e-4c91-a264-ed9e5f17462d",
     "showTitle": false,
     "tableResultSettingsMap": {},
     "title": ""
    },
    "jupyter": {
     "is_executing": true
    }
   },
   "outputs": [],
   "source": [
    "turma_a = {\"Ana\", \"Bruno\", \"Carla\"}\n",
    "turma_b = {\"Bruno\", \"Daniel\", \"Eva\"}\n",
    "print(\"Nas duas turmas:\", turma_a & turma_b)"
   ]
  },
  {
   "cell_type": "markdown",
   "metadata": {
    "application/vnd.databricks.v1+cell": {
     "cellMetadata": {},
     "inputWidgets": {},
     "nuid": "8d9dc50e-815d-4feb-b578-117c0798e514",
     "showTitle": false,
     "tableResultSettingsMap": {},
     "title": ""
    }
   },
   "source": [
    "## 6. Manipulação de Arquivos\n",
    "\n",
    "- `open()` com modos: `r`, `w`, `a`\n",
    "- Leitura: `read`, `readlines`\n",
    "- Escrita: `write`\n",
    "- Context manager: `with open(...) as f:`\n",
    "\n",
    "Gravando nomes em `nomes.txt` (um por linha)."
   ]
  },
  {
   "cell_type": "code",
   "execution_count": 0,
   "metadata": {
    "application/vnd.databricks.v1+cell": {
     "cellMetadata": {},
     "inputWidgets": {},
     "nuid": "02e45c58-0e8a-492e-8947-4043e1578145",
     "showTitle": false,
     "tableResultSettingsMap": {},
     "title": ""
    }
   },
   "outputs": [],
   "source": [
    "%sql\n",
    "create volume if not exists `laboratorio-spark`;"
   ]
  },
  {
   "cell_type": "code",
   "execution_count": 0,
   "metadata": {
    "application/vnd.databricks.v1+cell": {
     "cellMetadata": {},
     "inputWidgets": {},
     "nuid": "55238861-ff56-413d-a375-2b2497985830",
     "showTitle": false,
     "tableResultSettingsMap": {},
     "title": ""
    }
   },
   "outputs": [],
   "source": [
    "nomes = [\"Ana\", \"Bruno\", \"Carlos\"]\n",
    "with open(\"/Volumes/workspace/default/laboratorio-spark/nomes.txt\", \"w\", encoding=\"utf-8\") as f:\n",
    "    for n in nomes:\n",
    "        f.write(n + \"\\n\")\n",
    "print(\"Arquivo 'nomes.txt' gravado.\")"
   ]
  },
  {
   "cell_type": "markdown",
   "metadata": {
    "application/vnd.databricks.v1+cell": {
     "cellMetadata": {},
     "inputWidgets": {},
     "nuid": "6ab8f848-9288-443e-8378-ad4fd6644112",
     "showTitle": false,
     "tableResultSettingsMap": {},
     "title": ""
    }
   },
   "source": [
    "Lendo e imprimindo o arquivo `nomes.txt`, linha a linha."
   ]
  },
  {
   "cell_type": "code",
   "execution_count": 0,
   "metadata": {
    "application/vnd.databricks.v1+cell": {
     "cellMetadata": {},
     "inputWidgets": {},
     "nuid": "ce860096-63f9-4c60-9274-1d727fc45cab",
     "showTitle": false,
     "tableResultSettingsMap": {},
     "title": ""
    }
   },
   "outputs": [],
   "source": [
    "with open(\"/Volumes/workspace/default/laboratorio-spark/nomes.txt\", \"r\", encoding=\"utf-8\") as f:\n",
    "    for linha in f:\n",
    "        print(linha.strip())"
   ]
  },
  {
   "cell_type": "markdown",
   "metadata": {
    "application/vnd.databricks.v1+cell": {
     "cellMetadata": {},
     "inputWidgets": {},
     "nuid": "16c3ce65-5288-4524-b9a6-f0e7ea610a14",
     "showTitle": false,
     "tableResultSettingsMap": {},
     "title": ""
    }
   },
   "source": [
    "## 7. Módulos e Bibliotecas\n",
    "\n",
    "- `import math`, `from random import randint`\n",
    "- Criando seu próprio módulo simples\n",
    "\n",
    "Usando `math.sqrt` e `random.randint`."
   ]
  },
  {
   "cell_type": "code",
   "execution_count": 0,
   "metadata": {
    "application/vnd.databricks.v1+cell": {
     "cellMetadata": {},
     "inputWidgets": {},
     "nuid": "909e10f3-f506-4fb6-a03f-043625b91013",
     "showTitle": false,
     "tableResultSettingsMap": {},
     "title": ""
    }
   },
   "outputs": [],
   "source": [
    "import math\n",
    "from random import randint\n",
    "\n",
    "print(\"Raiz de 144:\", math.sqrt(144))\n",
    "print(\"Aleatório 1..10:\", randint(1, 10))"
   ]
  },
  {
   "cell_type": "markdown",
   "metadata": {
    "application/vnd.databricks.v1+cell": {
     "cellMetadata": {},
     "inputWidgets": {},
     "nuid": "354605f3-8187-45bc-9cd2-0d142d372a5f",
     "showTitle": false,
     "tableResultSettingsMap": {},
     "title": ""
    }
   },
   "source": [
    "`[INFO]: FIM DO NOTEBOOK`"
   ]
  }
 ],
 "metadata": {
  "application/vnd.databricks.v1+notebook": {
   "computePreferences": null,
   "dashboards": [],
   "environmentMetadata": null,
   "inputWidgetPreferences": null,
   "language": "python",
   "notebookMetadata": {
    "pythonIndentUnit": 4
   },
   "notebookName": "01.aula_python_fundamentos",
   "widgets": {}
  },
  "language_info": {
   "name": "python"
  }
 },
 "nbformat": 4,
 "nbformat_minor": 0
}
