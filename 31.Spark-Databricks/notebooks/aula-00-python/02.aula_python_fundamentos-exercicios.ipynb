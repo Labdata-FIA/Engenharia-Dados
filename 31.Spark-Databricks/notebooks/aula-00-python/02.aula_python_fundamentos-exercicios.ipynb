{
 "cells": [
  {
   "cell_type": "markdown",
   "metadata": {
    "application/vnd.databricks.v1+cell": {
     "cellMetadata": {},
     "inputWidgets": {},
     "nuid": "8b5eecce-a7cc-43ad-9cab-c20068e7f704",
     "showTitle": false,
     "tableResultSettingsMap": {},
     "title": ""
    }
   },
   "source": [
    "# Python"
   ]
  },
  {
   "cell_type": "markdown",
   "metadata": {
    "application/vnd.databricks.v1+cell": {
     "cellMetadata": {},
     "inputWidgets": {},
     "nuid": "a08efe0f-fabc-41fe-83cf-a45a1bf2fbd6",
     "showTitle": false,
     "tableResultSettingsMap": {},
     "title": ""
    }
   },
   "source": [
    "## Exercício 1 — Números Primos"
   ]
  },
  {
   "cell_type": "markdown",
   "metadata": {
    "application/vnd.databricks.v1+cell": {
     "cellMetadata": {},
     "inputWidgets": {},
     "nuid": "493777b6-062b-46da-8501-e0184e854ca8",
     "showTitle": false,
     "tableResultSettingsMap": {},
     "title": ""
    }
   },
   "source": [
    "Implemente uma função que verifica se um número é primo e depois gere uma lista com todos os primos até 100."
   ]
  },
  {
   "cell_type": "code",
   "execution_count": 0,
   "metadata": {
    "application/vnd.databricks.v1+cell": {
     "cellMetadata": {},
     "inputWidgets": {},
     "nuid": "0ee43a75-9da9-4800-8d6f-5bd0fd12f4bb",
     "showTitle": false,
     "tableResultSettingsMap": {},
     "title": ""
    }
   },
   "outputs": [],
   "source": [
    "def eh_primo(n: int) -> bool:\n",
    "    # coloque o teu codigo aqui e retire o pass\n",
    "    pass\n",
    "\n",
    "# Teste\n",
    "primos = [n for n in range(1, 101) if eh_primo(n)]\n",
    "print(primos)"
   ]
  },
  {
   "cell_type": "markdown",
   "metadata": {
    "application/vnd.databricks.v1+cell": {
     "cellMetadata": {},
     "inputWidgets": {},
     "nuid": "7e9d6cf6-270d-4c9d-9b31-427318f148ec",
     "showTitle": false,
     "tableResultSettingsMap": {},
     "title": ""
    }
   },
   "source": [
    "## Exercício 2 — Fatorial Recursivo e Iterativo"
   ]
  },
  {
   "cell_type": "markdown",
   "metadata": {
    "application/vnd.databricks.v1+cell": {
     "cellMetadata": {},
     "inputWidgets": {},
     "nuid": "59c31f90-8b0e-4609-b139-edaf891cd079",
     "showTitle": false,
     "tableResultSettingsMap": {},
     "title": ""
    }
   },
   "source": [
    "Implemente duas funções que calculam o fatorial de um número:\n",
    "1. Usando recursão\n",
    "2. ndo laço for"
   ]
  },
  {
   "cell_type": "code",
   "execution_count": 0,
   "metadata": {
    "application/vnd.databricks.v1+cell": {
     "cellMetadata": {},
     "inputWidgets": {},
     "nuid": "4aa78972-8ab8-40d7-a835-b411e2b7d2e4",
     "showTitle": false,
     "tableResultSettingsMap": {},
     "title": ""
    }
   },
   "outputs": [],
   "source": [
    "def fatorial_recursivo(n: int) -> int:\n",
    "    # coloque o teu codigo aqui e retire o pass\n",
    "    pass\n",
    "\n",
    "def fatorial_iterativo(n: int) -> int:\n",
    "    # coloque o teu codigo aqui e retire o pass\n",
    "    pass\n",
    "\n",
    "# Testes\n",
    "print(fatorial_recursivo(5))\n",
    "print(fatorial_iterativo(5))"
   ]
  },
  {
   "cell_type": "markdown",
   "metadata": {
    "application/vnd.databricks.v1+cell": {
     "cellMetadata": {},
     "inputWidgets": {},
     "nuid": "230626f9-b387-45fe-96b7-f375bde3ce23",
     "showTitle": false,
     "tableResultSettingsMap": {},
     "title": ""
    }
   },
   "source": [
    "## Exercício 3 — Dicionário de Notas"
   ]
  },
  {
   "cell_type": "markdown",
   "metadata": {
    "application/vnd.databricks.v1+cell": {
     "cellMetadata": {},
     "inputWidgets": {},
     "nuid": "371ff26a-aad0-45f1-82a9-05d5076a6908",
     "showTitle": false,
     "tableResultSettingsMap": {},
     "title": ""
    }
   },
   "source": [
    "Dado um dicionário com alunos e notas, calcule a média e indique se foi Aprovado (>= 7) ou Reprovado."
   ]
  },
  {
   "cell_type": "code",
   "execution_count": 0,
   "metadata": {
    "application/vnd.databricks.v1+cell": {
     "cellMetadata": {},
     "inputWidgets": {},
     "nuid": "a6334b0d-0c89-46bd-9c32-7ce1010fce94",
     "showTitle": false,
     "tableResultSettingsMap": {},
     "title": ""
    }
   },
   "outputs": [],
   "source": [
    "alunos = {\n",
    "    \"Ana\": [8, 7, 9],\n",
    "    \"Bruno\": [6, 5, 6],\n",
    "    \"Carla\": [10, 9, 10]\n",
    "}\n",
    "\n",
    "for nome, notas in alunos.items():\n",
    "    # coloque o teu codigo aqui e retire o pass\n",
    "    pass"
   ]
  },
  {
   "cell_type": "markdown",
   "metadata": {
    "application/vnd.databricks.v1+cell": {
     "cellMetadata": {},
     "inputWidgets": {},
     "nuid": "322a7eb5-e07c-4c65-ba47-76c664e0cbb4",
     "showTitle": false,
     "tableResultSettingsMap": {},
     "title": ""
    }
   },
   "source": [
    "## Exercício 4 — Simulação de Caixa Eletrônico"
   ]
  },
  {
   "cell_type": "markdown",
   "metadata": {
    "application/vnd.databricks.v1+cell": {
     "cellMetadata": {},
     "inputWidgets": {},
     "nuid": "4b30024a-87f4-49c9-b9b1-6ebceb7a289c",
     "showTitle": false,
     "tableResultSettingsMap": {},
     "title": ""
    }
   },
   "source": [
    "Crie uma função que recebe um valor inteiro e retorna a quantidade mínima de notas de 100, 50, 20, 10 e 5 necessária para compor esse valor."
   ]
  },
  {
   "cell_type": "code",
   "execution_count": 0,
   "metadata": {
    "application/vnd.databricks.v1+cell": {
     "cellMetadata": {},
     "inputWidgets": {},
     "nuid": "36eae088-c326-4586-afab-4a730e82a6c4",
     "showTitle": false,
     "tableResultSettingsMap": {},
     "title": ""
    }
   },
   "outputs": [],
   "source": [
    "def caixa_eletronico(valor: int) -> dict:\n",
    "    # coloque o teu codigo aqui e retire o pass\n",
    "    pass\n",
    "\n",
    "# Teste\n",
    "print(caixa_eletronico(385))  # {100:3, 50:1, 20:1, 10:1, 5:1}"
   ]
  },
  {
   "cell_type": "markdown",
   "metadata": {
    "application/vnd.databricks.v1+cell": {
     "cellMetadata": {},
     "inputWidgets": {},
     "nuid": "8729189e-db48-49e9-bb62-fd84a9077ba7",
     "showTitle": false,
     "tableResultSettingsMap": {},
     "title": ""
    }
   },
   "source": [
    "`[INFO]: FIM DO NOTEBOOK`"
   ]
  }
 ],
 "metadata": {
  "application/vnd.databricks.v1+notebook": {
   "computePreferences": null,
   "dashboards": [],
   "environmentMetadata": null,
   "inputWidgetPreferences": null,
   "language": "python",
   "notebookMetadata": {
    "pythonIndentUnit": 4
   },
   "notebookName": "02.aula_python_fundamentos-exercicios",
   "widgets": {}
  },
  "language_info": {
   "name": "python"
  }
 },
 "nbformat": 4,
 "nbformat_minor": 0
}
