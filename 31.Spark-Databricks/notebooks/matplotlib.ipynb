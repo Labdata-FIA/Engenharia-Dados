{
 "cells": [
  {
   "cell_type": "markdown",
   "metadata": {
    "application/vnd.databricks.v1+cell": {
     "cellMetadata": {
      "byteLimit": 2048000,
      "rowLimit": 10000
     },
     "inputWidgets": {},
     "nuid": "cb2402bb-f584-4988-8a39-657cd3e48b8e",
     "showTitle": false,
     "tableResultSettingsMap": {},
     "title": ""
    }
   },
   "source": [
    "\n",
    "# **Matplotlib**\n",
    "\n",
    "Você pode exibir objetos Matplotlib em notebooks Python."
   ]
  },
  {
   "cell_type": "markdown",
   "metadata": {
    "application/vnd.databricks.v1+cell": {
     "cellMetadata": {
      "byteLimit": 2048000,
      "rowLimit": 10000
     },
     "inputWidgets": {},
     "nuid": "9e72e34d-c71f-4d38-a54f-429c2352fb65",
     "showTitle": false,
     "tableResultSettingsMap": {},
     "title": ""
    }
   },
   "source": [
    "\n",
    "Fonte: https://docs.databricks.com/en/visualizations/matplotlib.html"
   ]
  },
  {
   "cell_type": "markdown",
   "metadata": {
    "application/vnd.databricks.v1+cell": {
     "cellMetadata": {
      "byteLimit": 2048000,
      "rowLimit": 10000
     },
     "inputWidgets": {},
     "nuid": "6204eb90-09a8-44cc-a6e8-7cb5b2178c5a",
     "showTitle": false,
     "tableResultSettingsMap": {},
     "title": ""
    }
   },
   "source": [
    "\n",
    "No DBR 6.4 e abaixo, descomente a linha abaixo\n",
    "\n",
    "`%matplotlib inline`"
   ]
  },
  {
   "cell_type": "code",
   "execution_count": 0,
   "metadata": {
    "application/vnd.databricks.v1+cell": {
     "cellMetadata": {
      "byteLimit": 2048000,
      "rowLimit": 10000
     },
     "inputWidgets": {},
     "nuid": "26e8ac6a-92df-4fdc-a51d-abe1fc6c0c83",
     "showTitle": false,
     "tableResultSettingsMap": {},
     "title": ""
    }
   },
   "outputs": [],
   "source": [
    "# no DBR 6.4 e abaixo, descomente a linha abaixo\n",
    "# %matplotlib inline"
   ]
  },
  {
   "cell_type": "code",
   "execution_count": 0,
   "metadata": {
    "application/vnd.databricks.v1+cell": {
     "cellMetadata": {
      "byteLimit": 2048000,
      "rowLimit": 10000
     },
     "inputWidgets": {},
     "nuid": "de77130d-839c-41db-b156-e203faf60c7d",
     "showTitle": false,
     "tableResultSettingsMap": {},
     "title": ""
    }
   },
   "outputs": [],
   "source": [
    "import numpy as np\n",
    "import matplotlib.pyplot as plt\n",
    "\n",
    "def plot_sine_with_noise():\n",
    "  # criação dos dados\n",
    "  x = np.linspace(0, 2*np.pi, 50) # cria um array com 50 valores entre 0 e 2*pi\n",
    "  y = np.sin(x) # calcula o seno de cada valor em x\n",
    "  y2 = y + 0.1 * np.random.normal(size=x.shape) # Adiciona ruído aleatório normal com média 0 e desvio padrão 0.1 à função seno, simulando dados experimentais ruidosos.\n",
    "\n",
    "  # criacao da figura e eixos\n",
    "  fig, ax = plt.subplots()\n",
    "\n",
    "  # plotagem dos Dados\n",
    "  ax.plot(x, y, 'k--') # Plota a função seno com uma linha preta tracejada ('k--')\n",
    "  ax.plot(x, y2, 'ro') # Plota os dados ruidosos como pontos vermelhos ('ro').\n",
    "\n",
    "  # configuração dos Ticks e Limites dos Eixos\n",
    "  ax.set_xlim((0, 2*np.pi))\n",
    "  ax.set_xticks([0, np.pi, 2*np.pi])\n",
    "  ax.set_xticklabels(['0', '$\\pi$','2$\\pi$'])\n",
    "  ax.set_ylim((-1.5, 1.5))\n",
    "  ax.set_yticks([-1, 0, 1])\n",
    "\n",
    "  # personalização das spines\n",
    "  ax.spines['left'].set_bounds(-1, 1) # define os limites visíveis da espines esquerda entre -1 e 1.\n",
    "  # oculta a espine direita e superior\n",
    "  ax.spines['right'].set_visible(False)\n",
    "  ax.spines['top'].set_visible(False)\n",
    "  # mostra somente as ticks da espine esquerda e inferior\n",
    "  ax.yaxis.set_ticks_position('left')\n",
    "  ax.xaxis.set_ticks_position('bottom')\n",
    "\n",
    "  plt.show()\n",
    "  return fig, ax\n",
    "\n",
    "fig, ax = plot_sine_with_noise()"
   ]
  },
  {
   "cell_type": "markdown",
   "metadata": {
    "application/vnd.databricks.v1+cell": {
     "cellMetadata": {
      "byteLimit": 2048000,
      "rowLimit": 10000
     },
     "inputWidgets": {},
     "nuid": "8d3c4759-a4b5-4dcd-984b-e50dbdd5454b",
     "showTitle": false,
     "tableResultSettingsMap": {},
     "title": ""
    }
   },
   "source": [
    "No Databricks Runtime 6.2 e abaixo, execute o comando display para visualizar o gráfico."
   ]
  },
  {
   "cell_type": "code",
   "execution_count": 0,
   "metadata": {
    "application/vnd.databricks.v1+cell": {
     "cellMetadata": {
      "byteLimit": 2048000,
      "rowLimit": 10000
     },
     "inputWidgets": {},
     "nuid": "75bbbac1-4506-4159-92f5-9eb66e331e42",
     "showTitle": false,
     "tableResultSettingsMap": {},
     "title": ""
    }
   },
   "outputs": [],
   "source": [
    "display(fig)"
   ]
  },
  {
   "cell_type": "markdown",
   "metadata": {
    "application/vnd.databricks.v1+cell": {
     "cellMetadata": {
      "byteLimit": 2048000,
      "rowLimit": 10000
     },
     "inputWidgets": {},
     "nuid": "02bc50e7-0e70-421a-ac1f-aacd3b67e487",
     "showTitle": false,
     "tableResultSettingsMap": {},
     "title": ""
    }
   },
   "source": [
    "\n",
    "Você pode renderizar imagens matplotlib em notebooks Python com o dobro da resolução padrão, fornecendo aos usuários de telas de alta resolução uma melhor experiência de visualização. Defina um dos seguintes em uma célula de notebook:"
   ]
  },
  {
   "cell_type": "markdown",
   "metadata": {
    "application/vnd.databricks.v1+cell": {
     "cellMetadata": {
      "byteLimit": 2048000,
      "rowLimit": 10000
     },
     "inputWidgets": {},
     "nuid": "83ac215c-0e57-4146-8c5f-122026121cb7",
     "showTitle": false,
     "tableResultSettingsMap": {},
     "title": ""
    }
   },
   "source": [
    "Opção `retina`"
   ]
  },
  {
   "cell_type": "code",
   "execution_count": 0,
   "metadata": {
    "application/vnd.databricks.v1+cell": {
     "cellMetadata": {
      "byteLimit": 2048000,
      "rowLimit": 10000
     },
     "inputWidgets": {},
     "nuid": "aa37fcc0-2013-4553-bef0-335f283c0cbe",
     "showTitle": false,
     "tableResultSettingsMap": {},
     "title": ""
    }
   },
   "outputs": [],
   "source": [
    "%config InlineBackend.figure_format = 'retina'\n",
    "\n",
    "from IPython.display import set_matplotlib_formats\n",
    "set_matplotlib_formats('retina')\n",
    "\n",
    "fig, ax = plot_sine_with_noise()"
   ]
  },
  {
   "cell_type": "markdown",
   "metadata": {
    "application/vnd.databricks.v1+cell": {
     "cellMetadata": {
      "byteLimit": 2048000,
      "rowLimit": 10000
     },
     "inputWidgets": {},
     "nuid": "420b57eb-cb01-4274-a220-200a7be8310a",
     "showTitle": false,
     "tableResultSettingsMap": {},
     "title": ""
    }
   },
   "source": [
    "Opção `png2x`"
   ]
  },
  {
   "cell_type": "code",
   "execution_count": 0,
   "metadata": {
    "application/vnd.databricks.v1+cell": {
     "cellMetadata": {
      "byteLimit": 2048000,
      "rowLimit": 10000
     },
     "inputWidgets": {},
     "nuid": "375176d7-2874-45d4-95c8-a1b9cdf5ecbc",
     "showTitle": false,
     "tableResultSettingsMap": {},
     "title": ""
    }
   },
   "outputs": [],
   "source": [
    "%config InlineBackend.figure_format = 'png2x'\n",
    "\n",
    "from IPython.display import set_matplotlib_formats\n",
    "set_matplotlib_formats('png2x')\n",
    "\n",
    "fig, ax = plot_sine_with_noise()"
   ]
  },
  {
   "cell_type": "markdown",
   "metadata": {
    "application/vnd.databricks.v1+cell": {
     "cellMetadata": {
      "byteLimit": 2048000,
      "rowLimit": 10000
     },
     "inputWidgets": {},
     "nuid": "e789b851-5987-410a-8113-ec37dce83b7a",
     "showTitle": false,
     "tableResultSettingsMap": {},
     "title": ""
    }
   },
   "source": [
    "Resolução default, opção `png`"
   ]
  },
  {
   "cell_type": "code",
   "execution_count": 0,
   "metadata": {
    "application/vnd.databricks.v1+cell": {
     "cellMetadata": {
      "byteLimit": 2048000,
      "rowLimit": 10000
     },
     "inputWidgets": {},
     "nuid": "47b3f482-8d83-46e2-98b3-fe5976d9cb81",
     "showTitle": false,
     "tableResultSettingsMap": {},
     "title": ""
    }
   },
   "outputs": [],
   "source": [
    "\n",
    "set_matplotlib_formats('png')\n",
    "\n",
    "%config InlineBackend.figure_format = 'png'\n",
    "\n",
    "fig, ax = plot_sine_with_noise()"
   ]
  },
  {
   "cell_type": "markdown",
   "metadata": {
    "application/vnd.databricks.v1+cell": {
     "cellMetadata": {
      "byteLimit": 2048000,
      "rowLimit": 10000
     },
     "inputWidgets": {},
     "nuid": "d42c0f04-650e-47c0-ac3d-2c950c1e1d82",
     "showTitle": false,
     "tableResultSettingsMap": {},
     "title": ""
    }
   },
   "source": [
    "`[INFO]: Fim do Notebook`"
   ]
  }
 ],
 "metadata": {
  "application/vnd.databricks.v1+notebook": {
   "computePreferences": {
    "hardware": {
     "accelerator": null,
     "gpuPoolId": null,
     "memory": null
    }
   },
   "dashboards": [],
   "environmentMetadata": null,
   "inputWidgetPreferences": null,
   "language": "python",
   "notebookMetadata": {
    "pythonIndentUnit": 4
   },
   "notebookName": "matplotlib",
   "widgets": {}
  },
  "language_info": {
   "name": "python"
  }
 },
 "nbformat": 4,
 "nbformat_minor": 0
}
