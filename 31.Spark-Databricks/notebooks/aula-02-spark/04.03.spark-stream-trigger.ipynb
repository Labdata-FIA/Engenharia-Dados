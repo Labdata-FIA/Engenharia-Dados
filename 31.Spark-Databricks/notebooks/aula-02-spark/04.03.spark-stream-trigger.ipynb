{
 "cells": [
  {
   "cell_type": "markdown",
   "metadata": {
    "application/vnd.databricks.v1+cell": {
     "cellMetadata": {
      "byteLimit": 2048000,
      "rowLimit": 10000
     },
     "inputWidgets": {},
     "nuid": "1ef8bdd3-8043-442c-9429-1638baae7a7a",
     "showTitle": false,
     "tableResultSettingsMap": {},
     "title": ""
    }
   },
   "source": [
    "## Spark Streaming - Trigger\n",
    "\n",
    "### Rate Source\n",
    "\n",
    "No **Rate Source** do Spark Structured Streaming, o valor gerado na coluna **`value`** é automaticamente incrementado a partir de 0, ou seja, ele gera valores inteiros sequenciais sem a possibilidade direta de configurar ou definir o valor manualmente.\n",
    "\n",
    "#### Como funciona o **Rate Source**:\n",
    "- A coluna **`value`** é um número que começa em 0 e é incrementado automaticamente à medida que o Spark gera mais linhas.\n",
    "- A coluna **`timestamp`** indica o horário em que cada linha foi gerada.\n"
   ]
  },
  {
   "cell_type": "markdown",
   "metadata": {
    "application/vnd.databricks.v1+cell": {
     "cellMetadata": {
      "byteLimit": 2048000,
      "rowLimit": 10000
     },
     "inputWidgets": {},
     "nuid": "ce3dafe3-b7b1-4ef1-bbd2-137b7ab06f96",
     "showTitle": false,
     "tableResultSettingsMap": {},
     "title": ""
    }
   },
   "source": [
    "#### Exemplo de Leitura com `Rate Source`:"
   ]
  },
  {
   "cell_type": "code",
   "execution_count": 0,
   "metadata": {
    "application/vnd.databricks.v1+cell": {
     "cellMetadata": {
      "byteLimit": 2048000,
      "rowLimit": 10000
     },
     "inputWidgets": {},
     "nuid": "905ded95-7884-4b47-8dd5-6090fcce4eb4",
     "showTitle": false,
     "tableResultSettingsMap": {},
     "title": ""
    }
   },
   "outputs": [],
   "source": [
    "spark"
   ]
  },
  {
   "cell_type": "code",
   "execution_count": 0,
   "metadata": {
    "application/vnd.databricks.v1+cell": {
     "cellMetadata": {
      "byteLimit": 2048000,
      "rowLimit": 10000
     },
     "inputWidgets": {},
     "nuid": "0cb3d9e6-ee4e-445b-bebe-5b0dc677a2e2",
     "showTitle": false,
     "tableResultSettingsMap": {},
     "title": ""
    }
   },
   "outputs": [],
   "source": [
    "stream_df = (\n",
    "    spark\n",
    "        .readStream\n",
    "        .format(\"rate\")\n",
    "        .option(\"rowsPerSecond\", 50)\n",
    "        .load()\n",
    ")\n",
    "\n",
    "stream_df.printSchema()"
   ]
  },
  {
   "cell_type": "markdown",
   "metadata": {
    "application/vnd.databricks.v1+cell": {
     "cellMetadata": {
      "byteLimit": 2048000,
      "rowLimit": 10000
     },
     "inputWidgets": {},
     "nuid": "ab5d3d01-3477-4088-9314-f0896d550b2f",
     "showTitle": false,
     "tableResultSettingsMap": {},
     "title": ""
    }
   },
   "source": [
    "\n",
    "**Esquema gerado pelo `Rate Source`:**\n",
    "\n",
    "```bash\n",
    "root\n",
    " |-- timestamp: timestamp (nullable = true)\n",
    " |-- value: long (nullable = true)\n",
    "```\n",
    "\n",
    "A coluna **`value`** é um número do tipo `long` gerado automaticamente pelo Spark. Infelizmente, não há um parâmetro nativo no **Rate Source** que permita definir ou controlar manualmente o valor da coluna `value`.\n",
    "\n",
    "\n",
    "### Exemplo de Trigger - `processingTime`:\n",
    "\n",
    "- **Rate Source**: A opção `rowsPerSecond` define que 50 linhas de dados são geradas a cada segundo. Os dados contêm uma coluna `timestamp` e uma coluna `value`.\n",
    "- **Trigger**: O processamento ocorre a cada 5 segundos, criando um micro-batch a cada intervalo.\n"
   ]
  },
  {
   "cell_type": "code",
   "execution_count": 0,
   "metadata": {
    "application/vnd.databricks.v1+cell": {
     "cellMetadata": {
      "byteLimit": 2048000,
      "rowLimit": 10000
     },
     "inputWidgets": {},
     "nuid": "88979de6-5df6-4773-ba95-848cf97dfde4",
     "showTitle": false,
     "tableResultSettingsMap": {},
     "title": ""
    }
   },
   "outputs": [],
   "source": [
    "stream_df = (\n",
    "    spark\n",
    "        .readStream\n",
    "        .format(\"rate\")\n",
    "        .option(\"rowsPerSecond\", 50)\n",
    "        .load()\n",
    ")"
   ]
  },
  {
   "cell_type": "code",
   "execution_count": 0,
   "metadata": {
    "application/vnd.databricks.v1+cell": {
     "cellMetadata": {
      "byteLimit": 2048000,
      "rowLimit": 10000
     },
     "inputWidgets": {},
     "nuid": "dba8e54f-3e5c-4749-97f7-1adcda1b592f",
     "showTitle": false,
     "tableResultSettingsMap": {},
     "title": ""
    }
   },
   "outputs": [],
   "source": [
    "query = (\n",
    "    stream_df\n",
    "        .writeStream\n",
    "            .outputMode(\"append\")\n",
    "            .format(\"console\")\n",
    "            .trigger(processingTime=\"5 seconds\")\n",
    "            .start()\n",
    ")\n",
    "\n",
    "query.awaitTermination()"
   ]
  },
  {
   "cell_type": "markdown",
   "metadata": {
    "application/vnd.databricks.v1+cell": {
     "cellMetadata": {},
     "inputWidgets": {},
     "nuid": "3dfc84ef-2cf7-45b5-a8e4-d73889009d28",
     "showTitle": false,
     "tableResultSettingsMap": {},
     "title": ""
    }
   },
   "source": [
    "\n",
    "---\n",
    "\n",
    "### Exemplo de Trigger - `once`\n",
    "\n",
    "O trigger `once` processa todos os dados disponíveis **apenas uma vez** e encerra o stream.\n"
   ]
  },
  {
   "cell_type": "code",
   "execution_count": 0,
   "metadata": {
    "application/vnd.databricks.v1+cell": {
     "cellMetadata": {
      "byteLimit": 2048000,
      "rowLimit": 10000
     },
     "inputWidgets": {},
     "nuid": "84994064-0f76-434d-90b0-bd45511631d4",
     "showTitle": false,
     "tableResultSettingsMap": {},
     "title": ""
    }
   },
   "outputs": [],
   "source": [
    "stream_df = (\n",
    "    spark\n",
    "        .readStream\n",
    "        .format(\"rate\")\n",
    "        .option(\"rowsPerSecond\", 50)\n",
    "        .load()\n",
    ")"
   ]
  },
  {
   "cell_type": "markdown",
   "metadata": {
    "application/vnd.databricks.v1+cell": {
     "cellMetadata": {},
     "inputWidgets": {},
     "nuid": "b53f3df1-002a-434b-a5a3-deb7000fbb58",
     "showTitle": false,
     "tableResultSettingsMap": {},
     "title": ""
    }
   },
   "source": []
  },
  {
   "cell_type": "code",
   "execution_count": 0,
   "metadata": {
    "application/vnd.databricks.v1+cell": {
     "cellMetadata": {
      "byteLimit": 2048000,
      "rowLimit": 10000
     },
     "inputWidgets": {},
     "nuid": "1266b561-23fd-4fb0-a387-6d0c93366b3d",
     "showTitle": false,
     "tableResultSettingsMap": {},
     "title": ""
    }
   },
   "outputs": [],
   "source": [
    "query = (\n",
    "    stream_df\n",
    "        .writeStream\n",
    "        .outputMode(\"append\")\n",
    "        .format(\"console\")\n",
    "        .trigger(once=True)\n",
    "        .start()\n",
    ")\n",
    "\n",
    "query.awaitTermination()"
   ]
  },
  {
   "cell_type": "markdown",
   "metadata": {
    "application/vnd.databricks.v1+cell": {
     "cellMetadata": {},
     "inputWidgets": {},
     "nuid": "357c4449-8518-423c-a21c-ab318d50abc3",
     "showTitle": false,
     "tableResultSettingsMap": {},
     "title": ""
    }
   },
   "source": [
    "\n",
    "---\n",
    "\n",
    "### Exemplo de Trigger - `continuous`\n",
    "\n",
    "O trigger `continuous` processa os dados **continuamente** com baixa latência. Você pode definir um intervalo de checkpoint para garantir que os dados sejam processados assim que chegam.\n"
   ]
  },
  {
   "cell_type": "code",
   "execution_count": 0,
   "metadata": {
    "application/vnd.databricks.v1+cell": {
     "cellMetadata": {
      "byteLimit": 2048000,
      "rowLimit": 10000
     },
     "inputWidgets": {},
     "nuid": "435535b8-f8f0-4be2-8b23-e435306c214f",
     "showTitle": false,
     "tableResultSettingsMap": {},
     "title": ""
    }
   },
   "outputs": [],
   "source": [
    "stream_df = (\n",
    "    spark\n",
    "        .readStream\n",
    "        .format(\"rate\")\n",
    "        .option(\"rowsPerSecond\", 50)\n",
    "        .load()\n",
    ")"
   ]
  },
  {
   "cell_type": "markdown",
   "metadata": {
    "application/vnd.databricks.v1+cell": {
     "cellMetadata": {},
     "inputWidgets": {},
     "nuid": "7b57004c-6dc0-46a3-b2f6-374490b8becb",
     "showTitle": false,
     "tableResultSettingsMap": {},
     "title": ""
    }
   },
   "source": []
  },
  {
   "cell_type": "code",
   "execution_count": 0,
   "metadata": {
    "application/vnd.databricks.v1+cell": {
     "cellMetadata": {
      "byteLimit": 2048000,
      "rowLimit": 10000
     },
     "inputWidgets": {},
     "nuid": "d806a4c7-a14b-45fb-bcf5-a5ebfbbaaa82",
     "showTitle": false,
     "tableResultSettingsMap": {},
     "title": ""
    }
   },
   "outputs": [],
   "source": [
    "# Processar os dados continuamente com baixa latência\n",
    "query = (\n",
    "    stream_df\n",
    "        .writeStream\n",
    "        .outputMode(\"append\")\n",
    "        .format(\"console\")\n",
    "        .trigger(continuous=\"1 second\")  # Latência de 1 segundo\n",
    "        .start()\n",
    ")\n",
    "\n",
    "query.awaitTermination()"
   ]
  },
  {
   "cell_type": "markdown",
   "metadata": {
    "application/vnd.databricks.v1+cell": {
     "cellMetadata": {},
     "inputWidgets": {},
     "nuid": "8b72ba8c-cf6d-4498-b5d5-334707c9f71d",
     "showTitle": false,
     "tableResultSettingsMap": {},
     "title": ""
    }
   },
   "source": [
    "\n",
    "---\n",
    "\n",
    "### Exemplo de Trigger - `availableNow`\n",
    "\n",
    "O trigger `availableNow` processa **todos os dados disponíveis no momento** e continua aguardando novos dados.\n"
   ]
  },
  {
   "cell_type": "code",
   "execution_count": 0,
   "metadata": {
    "application/vnd.databricks.v1+cell": {
     "cellMetadata": {
      "byteLimit": 2048000,
      "rowLimit": 10000
     },
     "inputWidgets": {},
     "nuid": "5d77c9cc-d9ce-4a3e-9b24-6ec4783f3549",
     "showTitle": false,
     "tableResultSettingsMap": {},
     "title": ""
    }
   },
   "outputs": [],
   "source": [
    "stream_df = (\n",
    "    spark\n",
    "        .readStream\n",
    "        .format(\"rate\")\n",
    "        .option(\"rowsPerSecond\", 50)\n",
    "        .load()\n",
    ")"
   ]
  },
  {
   "cell_type": "markdown",
   "metadata": {
    "application/vnd.databricks.v1+cell": {
     "cellMetadata": {},
     "inputWidgets": {},
     "nuid": "75815a12-4f67-4a0a-b329-af70bac25a11",
     "showTitle": false,
     "tableResultSettingsMap": {},
     "title": ""
    }
   },
   "source": []
  },
  {
   "cell_type": "code",
   "execution_count": 0,
   "metadata": {
    "application/vnd.databricks.v1+cell": {
     "cellMetadata": {
      "byteLimit": 2048000,
      "rowLimit": 10000
     },
     "inputWidgets": {},
     "nuid": "a73fb6a5-79c7-4326-8136-2a79e6c73dce",
     "showTitle": false,
     "tableResultSettingsMap": {},
     "title": ""
    }
   },
   "outputs": [],
   "source": [
    "# Processar todos os dados disponíveis agora e continuar ativo\n",
    "query = (\n",
    "    stream_df\n",
    "        .writeStream\n",
    "        .outputMode(\"append\")\n",
    "        .format(\"console\")\n",
    "        .option(\"checkpointLocation\", \"/Volumes/workspace/default/laboratorio-spark/exercicio.04.03/_checkpoint\")\n",
    "        .trigger(availableNow=True)\n",
    "        .start()\n",
    ")\n",
    "\n",
    "query.awaitTermination()"
   ]
  },
  {
   "cell_type": "markdown",
   "metadata": {
    "application/vnd.databricks.v1+cell": {
     "cellMetadata": {},
     "inputWidgets": {},
     "nuid": "32925114-800c-4a73-b880-6c5fc99228a7",
     "showTitle": false,
     "tableResultSettingsMap": {},
     "title": ""
    }
   },
   "source": [
    "\n",
    "---\n",
    "\n",
    "### Comparação dos Exemplos com Triggers\n",
    "\n",
    "| Trigger Type         | Descrição                                                                   | Exemplo                                                                                     |\n",
    "|----------------------|-----------------------------------------------------------------------------|---------------------------------------------------------------------------------------------|\n",
    "| **`processingTime`** | Executa em intervalos regulares de tempo. Processa dados a cada N segundos. | Processa os dados a cada 5 segundos, independentemente de novos dados.                      |\n",
    "| **`once`**           | Processa todos os dados disponíveis uma única vez e encerra o stream.       | Lê todos os dados disponíveis da fonte de taxa e finaliza a execução do stream.             |\n",
    "| **`continuous`**     | Processa dados continuamente com baixa latência.                            | Processa os dados conforme eles chegam, com uma latência de 1 segundo.                      |\n",
    "| **`availableNow`**   | Processa os dados disponíveis no momento e aguarda novos dados.             | Processa todos os dados que estão disponíveis agora e continua ativo para novos dados.      |\n",
    "\n"
   ]
  }
 ],
 "metadata": {
  "application/vnd.databricks.v1+notebook": {
   "computePreferences": {
    "hardware": {
     "accelerator": null,
     "gpuPoolId": null,
     "memory": null
    }
   },
   "dashboards": [],
   "environmentMetadata": null,
   "inputWidgetPreferences": null,
   "language": "python",
   "notebookMetadata": {
    "mostRecentlyExecutedCommandWithImplicitDF": {
     "commandId": 5123364838639575,
     "dataframes": [
      "_sqldf"
     ]
    },
    "pythonIndentUnit": 4
   },
   "notebookName": "04.03.spark-stream-trigger",
   "widgets": {}
  },
  "language_info": {
   "name": "python"
  }
 },
 "nbformat": 4,
 "nbformat_minor": 0
}
