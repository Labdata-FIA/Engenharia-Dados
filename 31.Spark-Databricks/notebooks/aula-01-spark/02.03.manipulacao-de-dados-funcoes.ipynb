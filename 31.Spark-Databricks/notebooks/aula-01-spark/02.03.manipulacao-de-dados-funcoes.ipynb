{
 "cells": [
  {
   "cell_type": "markdown",
   "metadata": {
    "application/vnd.databricks.v1+cell": {
     "cellMetadata": {
      "byteLimit": 2048000,
      "rowLimit": 10000
     },
     "inputWidgets": {},
     "nuid": "42a2f6ac-40a1-49a2-b54a-618943ba2392",
     "showTitle": false,
     "tableResultSettingsMap": {},
     "title": ""
    }
   },
   "source": [
    "### Manipulação de Dados com DataFrames no PySpark - Funções\n",
    "\n",
    "#### Preparando os dados\n"
   ]
  },
  {
   "cell_type": "code",
   "execution_count": 0,
   "metadata": {
    "application/vnd.databricks.v1+cell": {
     "cellMetadata": {
      "byteLimit": 2048000,
      "rowLimit": 10000
     },
     "inputWidgets": {},
     "nuid": "b9a423a7-dee0-400f-a6ca-e986a7f17713",
     "showTitle": false,
     "tableResultSettingsMap": {},
     "title": ""
    }
   },
   "outputs": [],
   "source": [
    "spark"
   ]
  },
  {
   "cell_type": "code",
   "execution_count": 0,
   "metadata": {
    "application/vnd.databricks.v1+cell": {
     "cellMetadata": {
      "byteLimit": 2048000,
      "rowLimit": 10000
     },
     "inputWidgets": {},
     "nuid": "ef471d91-e487-43d1-a920-2bd433010dd0",
     "showTitle": false,
     "tableResultSettingsMap": {},
     "title": ""
    }
   },
   "outputs": [],
   "source": [
    "from pyspark.sql import functions as F\n",
    "\n",
    "# Criar uma massa de dados com datas\n",
    "data = [\n",
    "    (\"Alice\", \"Marketing\", 5000.50, 1000, \"2015-01-10\", \"1990-05-15\"),\n",
    "    (\"Bob\", \"Marketing\", 6000.75, 1500, \"2017-07-22\", \"1988-09-12\"),\n",
    "    (\"Charlie\", \"Vendas\", 4000.20, 2000, \"2016-11-30\", \"1992-12-30\"),\n",
    "    (\"Dave\", \"Vendas\", 4800.60, 1200, \"2019-05-01\", \"1987-02-15\"),\n",
    "    (\"Eve\", \"TI\", 7000.10, 3000, \"2014-03-20\", \"1985-08-25\"),\n",
    "    (\"Frank\", \"TI\", 6000.35, 2500, \"2018-09-18\", \"1990-11-05\")\n",
    "]\n",
    "\n",
    "# Definir o esquema do DataFrame\n",
    "columns = [\"nome\", \"departamento\", \"salario\", \"bonus\", \"data_contratacao\", \"data_nascimento\"]\n",
    "\n",
    "# Criar o DataFrame\n",
    "df = spark.createDataFrame(data, columns)\n",
    "\n",
    "df.createOrReplaceTempView(\"funcionarios\")\n",
    "\n",
    "# Mostrar o DataFrame final\n",
    "display(df)\n"
   ]
  },
  {
   "cell_type": "markdown",
   "metadata": {
    "application/vnd.databricks.v1+cell": {
     "cellMetadata": {
      "byteLimit": 2048000,
      "rowLimit": 10000
     },
     "inputWidgets": {},
     "nuid": "63d68269-5b04-4090-9d77-81ab60ad09e7",
     "showTitle": false,
     "tableResultSettingsMap": {},
     "title": ""
    }
   },
   "source": [
    "\n",
    "#### Funções de Manipulação de String\n",
    "\n",
    "| Função            | Descrição                                                           | Exemplo de Entrada                  | Exemplo de Saída |\n",
    "|-------------------|---------------------------------------------------------------------|-------------------------------------|------------------|\n",
    "| **`upper()`**     | Converte uma string para letras maiúsculas                          | `\"spark\"`                           | `\"SPARK\"`        |\n",
    "| **`lower()`**     | Converte uma string para letras minúsculas                          | `\"SPARK\"`                           | `\"spark\"`        |\n",
    "| **`substring()`** | Extrai uma substring com base em uma posição inicial e comprimento  | `\"Marketing\"` com `substring(1, 3)` | `\"Mar\"`          |\n",
    "| **`concat()`**    | Concatena duas ou mais strings                                      | `concat(\"Hello\", \" \", \"World\")`     | `\"Hello World\"`  |\n",
    "| **`length()`**    | Retorna o comprimento de uma string                                 | `\"spark\"`                           | `5`              |\n",
    "| **`trim()`**      | Remove os espaços em branco no início e fim de uma string           | `\"  spark \"`                        | `\"spark\"`        |\n",
    "| **`lpad()`**      | Preenche a string à esquerda até atingir um determinado comprimento | `lpad(\"spark\", 7, \"x\")`             | `\"xxspark\"`      |\n",
    "| **`rpad()`**      | Preenche a string à direita até atingir um determinado comprimento  | `rpad(\"spark\", 7, \"x\")`             | `\"sparkxx\"`      |\n"
   ]
  },
  {
   "cell_type": "markdown",
   "metadata": {
    "application/vnd.databricks.v1+cell": {
     "cellMetadata": {
      "byteLimit": 2048000,
      "rowLimit": 10000
     },
     "inputWidgets": {},
     "nuid": "fe9695b5-fa9c-4739-81a6-a2274458fd60",
     "showTitle": false,
     "tableResultSettingsMap": {},
     "title": ""
    }
   },
   "source": [
    "**Fazendo a manipulacao das Strings**"
   ]
  },
  {
   "cell_type": "code",
   "execution_count": 0,
   "metadata": {
    "application/vnd.databricks.v1+cell": {
     "cellMetadata": {
      "byteLimit": 2048000,
      "rowLimit": 10000
     },
     "inputWidgets": {},
     "nuid": "330acb8c-9a26-471b-8ef4-8f109eb41447",
     "showTitle": false,
     "tableResultSettingsMap": {},
     "title": ""
    }
   },
   "outputs": [],
   "source": [
    "# Aplicar funções de manipulação de string\n",
    "df = (\n",
    "    df\n",
    "        .withColumn(\"nome_maiusculo\", F.upper(F.col(\"nome\")))\n",
    "        .withColumn(\"departamento_minusculo\", F.lower(F.col(\"departamento\")))\n",
    "        .withColumn(\"iniciais\", F.concat(F.substring(\"nome\", 1, 1), F.substring(\"departamento\", 1, 1)))\n",
    ")\n",
    "display(df)"
   ]
  },
  {
   "cell_type": "markdown",
   "metadata": {
    "application/vnd.databricks.v1+cell": {
     "cellMetadata": {
      "byteLimit": 2048000,
      "rowLimit": 10000
     },
     "inputWidgets": {},
     "nuid": "1b3e79a2-7e54-4d40-94cf-fd847ab491e4",
     "showTitle": false,
     "tableResultSettingsMap": {},
     "title": ""
    }
   },
   "source": [
    "\n",
    "**Equivalência em SQL**"
   ]
  },
  {
   "cell_type": "code",
   "execution_count": 0,
   "metadata": {
    "application/vnd.databricks.v1+cell": {
     "cellMetadata": {
      "byteLimit": 2048000,
      "implicitDf": true,
      "rowLimit": 10000
     },
     "inputWidgets": {},
     "nuid": "815ef5eb-0753-470d-bd49-cd9b626ae768",
     "showTitle": false,
     "tableResultSettingsMap": {},
     "title": ""
    }
   },
   "outputs": [],
   "source": [
    "%sql\n",
    "SELECT \n",
    "    nome,\n",
    "    UPPER(nome) AS nome_maiusculo,\n",
    "    LOWER(departamento) AS departamento_minusculo,\n",
    "    CONCAT(SUBSTRING(nome, 1, 1), SUBSTRING(departamento, 1, 1)) AS iniciais\n",
    "FROM funcionarios;"
   ]
  },
  {
   "cell_type": "markdown",
   "metadata": {
    "application/vnd.databricks.v1+cell": {
     "cellMetadata": {
      "byteLimit": 2048000,
      "rowLimit": 10000
     },
     "inputWidgets": {},
     "nuid": "a969faae-73cf-402e-8400-a069bc617b23",
     "showTitle": false,
     "tableResultSettingsMap": {},
     "title": ""
    }
   },
   "source": [
    "\n",
    "#### Funções Matemáticas\n",
    "\n",
    "| Função                | Descrição                                                                        | Exemplo de Entrada          | Exemplo de Saída |\n",
    "|-----------------------|----------------------------------------------------------------------------------|-----------------------------|------------------|\n",
    "| **`abs()`**           | Retorna o valor absoluto de um número                                            | `abs(-5000.50)`             | `5000.50`        |\n",
    "| **`round()`**         | Arredonda um número para um número específico de casas decimais                  | `round(5000.567, 2)`        | `5000.57`        |\n",
    "| **`ceil()`**          | Retorna o menor número inteiro maior ou igual ao valor fornecido                 | `ceil(5000.20)`             | `5001`           |\n",
    "| **`floor()`**         | Retorna o maior número inteiro menor ou igual ao valor fornecido                 | `floor(5000.75)`            | `5000`           |\n",
    "| **`sqrt()`**          | Retorna a raiz quadrada de um número                                             | `sqrt(5000.50)`             | `70.71774881`    |\n",
    "| **`pow()`**           | Retorna um número elevado à potência de outro                                    | `pow(5000.50 + 1000, 2)`    | `36036060.25`    |\n",
    "| **`format_number()`** | Formata um número com o número desejado de casas decimais e retorna como string. | `format_number(5000.50, 2)` | `\"5,000.50\"`     |\n"
   ]
  },
  {
   "cell_type": "markdown",
   "metadata": {
    "application/vnd.databricks.v1+cell": {
     "cellMetadata": {
      "byteLimit": 2048000,
      "rowLimit": 10000
     },
     "inputWidgets": {},
     "nuid": "66e97ec5-5367-4ee2-829b-9475bf3a160d",
     "showTitle": false,
     "tableResultSettingsMap": {},
     "title": ""
    }
   },
   "source": [
    "**Fazendo a manipulacao da coluna salario**"
   ]
  },
  {
   "cell_type": "code",
   "execution_count": 0,
   "metadata": {
    "application/vnd.databricks.v1+cell": {
     "cellMetadata": {
      "byteLimit": 2048000,
      "rowLimit": 10000
     },
     "inputWidgets": {},
     "nuid": "d5735d8b-63af-4cb6-8b2b-621d015b3b11",
     "showTitle": false,
     "tableResultSettingsMap": {},
     "title": ""
    }
   },
   "outputs": [],
   "source": [
    "# Aplicar funções matemáticas\n",
    "df = (\n",
    "    df\n",
    "        .withColumn(\"salario_abs\", F.abs(F.col(\"salario\")))\n",
    "        .withColumn(\"salario_arredondado\", F.round(F.col(\"salario\"), 0))\n",
    "        .withColumn(\"salario_ceil\", F.ceil(F.col(\"salario\")))\n",
    "        .withColumn(\"salario_floor\", F.floor(F.col(\"salario\")))\n",
    "        .withColumn(\"salario_sqrt\", F.sqrt(F.col(\"salario\")))\n",
    "        .withColumn(\"salario_bonificado\", F.pow(F.col(\"salario\") + F.col(\"bonus\"), 2))\n",
    "        .withColumn(\"salario_formatado\", F.format_number(F.col(\"salario\"), 2))\n",
    ")\n",
    "display(df)"
   ]
  },
  {
   "cell_type": "markdown",
   "metadata": {
    "application/vnd.databricks.v1+cell": {
     "cellMetadata": {
      "byteLimit": 2048000,
      "rowLimit": 10000
     },
     "inputWidgets": {},
     "nuid": "68083a70-b741-4569-a913-1f809f7ac100",
     "showTitle": false,
     "tableResultSettingsMap": {},
     "title": ""
    }
   },
   "source": [
    "\n",
    "**Equivalência em SQL**\n"
   ]
  },
  {
   "cell_type": "code",
   "execution_count": 0,
   "metadata": {
    "application/vnd.databricks.v1+cell": {
     "cellMetadata": {
      "byteLimit": 2048000,
      "implicitDf": true,
      "rowLimit": 10000
     },
     "inputWidgets": {},
     "nuid": "77b046cf-22b1-4213-9ef4-f427e4b5a514",
     "showTitle": false,
     "tableResultSettingsMap": {},
     "title": ""
    }
   },
   "outputs": [],
   "source": [
    "%sql\n",
    "SELECT \n",
    "    nome,\n",
    "    salario,\n",
    "    ABS(salario) AS salario_abs,\n",
    "    ROUND(salario, 2) AS salario_arredondado,\n",
    "    CEIL(salario) AS salario_ceil,\n",
    "    FLOOR(salario) AS salario_floor,\n",
    "    SQRT(salario) AS salario_sqrt,\n",
    "    POWER(salario + bonus, 2) AS salario_bonificado,\n",
    "    FORMAT_NUMBER(salario, 2) AS salario_formatado\n",
    "FROM funcionarios;"
   ]
  },
  {
   "cell_type": "markdown",
   "metadata": {
    "application/vnd.databricks.v1+cell": {
     "cellMetadata": {
      "byteLimit": 2048000,
      "rowLimit": 10000
     },
     "inputWidgets": {},
     "nuid": "83b1a8a2-e1be-40d6-a185-8febe8eae668",
     "showTitle": false,
     "tableResultSettingsMap": {},
     "title": ""
    }
   },
   "source": [
    "\n",
    "#### Funções de Tratamento de Datas e Horas\n",
    "\n",
    "| Função                              | Descrição                                                                                  | Exemplo de Entrada                                                | Exemplo de Saída        |\n",
    "|-------------------------------------|--------------------------------------------------------------------------------------------|-------------------------------------------------------------------|-------------------------|\n",
    "| **`current_date()`**                | Retorna a data atual.                                                                      | `current_date()`                                                  | `2024-09-24`            |\n",
    "| **`datediff(end, start)`**          | Calcula a diferença de dias entre duas datas.                                              | `datediff('2024-09-24', '2015-01-10')`                            | `3520`                  |\n",
    "| **`floor()`**                       | Arredonda o número para o valor inteiro mais próximo, útil para transformar dias em anos.  | `floor(3520 / 365)`                                               | `9` (anos de diferença) |\n",
    "| **`add_months(date, n)`**           | Adiciona ou subtrai um número de meses a uma data.                                         | `add_months('1990-05-15', 12)`                                    | `1991-05-15`            |\n",
    "| **`year()`**                        | Extrai o ano de uma data.                                                                  | `year('2024-09-24')`                                              | `2024`                  |\n",
    "| **`month()`**                       | Extrai o mês de uma data.                                                                  | `month('2024-09-24')`                                             | `9`                     |\n",
    "| **`dayofmonth()`**                  | Extrai o dia do mês de uma data.                                                           | `dayofmonth('2024-09-24')`                                        | `24`                    |\n",
    "| **`date_format()`**                 | Formata uma data em um padrão específico.                                                  | `date_format('2024-09-24', 'dd/MM/yyyy')`                         | `24/09/2024`            |\n",
    "| **`next_day(date, 'day_of_week')`** | Retorna a data do próximo dia da semana a partir de uma data fornecida.                    | `next_day('2024-09-24', 'Mon')`                                   | `2024-09-30`            |\n",
    "| **`to_date()`**                     | Converte uma string que representa uma data em uma coluna de data no formato especificado. | `to_date('15-05-1990', 'dd-MM-yyyy')`                             | `1990-05-15`            |\n",
    "| **`to_timestamp()`**                | Converte uma string com data e hora em um timestamp (com fuso horário).                    | `to_timestamp('2024-09-24 13:45:00', 'yyyy-MM-dd HH:mm:ss')`      | `2024-09-24 13:45:00`   |\n",
    "| **`to_timestamp_ntz()`**            | Converte uma string para um timestamp sem fuso horário.                                    | `to_timestamp_ntz('2024-09-24 13:45:00', 'yyyy-MM-dd HH:mm:ss')`  | `2024-09-24 13:45:00`   |\n",
    "| **`to_timestamp_ltz()`**            | Converte uma string para um timestamp com fuso horário local (local time zone).            | `to_timestamp_ltz('2024-09-24 13:45:00', 'yyyy-MM-dd HH:mm:ss')`  | `2024-09-24 13:45:00`   |\n",
    "| **`to_unix_timestamp()`**           | Converte uma string com data e hora em um timestamp Unix (segundos desde 01/01/1970 UTC).  | `to_unix_timestamp('2024-09-24 13:45:00', 'yyyy-MM-dd HH:mm:ss')` | `1727174700`            |\n",
    "| **`to_utc_timestamp()`**            | Converte um timestamp local para UTC (tempo universal).                                    | `to_utc_timestamp('2024-09-24 13:45:00', 'PST')`                  | `2024-09-24 21:45:00`   |\n",
    "| **`date_add(date, num_days)`**      | Adiciona ou subtrai um número de dias a partir de uma data.                                | `date_add('2024-09-24', 10)`                                      | `2024-10-04`            |\n",
    "\n"
   ]
  },
  {
   "cell_type": "markdown",
   "metadata": {
    "application/vnd.databricks.v1+cell": {
     "cellMetadata": {
      "byteLimit": 2048000,
      "rowLimit": 10000
     },
     "inputWidgets": {},
     "nuid": "0d6c6122-8325-47e3-a20a-f8214e486fe9",
     "showTitle": false,
     "tableResultSettingsMap": {},
     "title": ""
    }
   },
   "source": [
    "**Fazendo a manipulacao das colunas data_contratacao e data_nascimento**"
   ]
  },
  {
   "cell_type": "code",
   "execution_count": 0,
   "metadata": {
    "application/vnd.databricks.v1+cell": {
     "cellMetadata": {
      "byteLimit": 2048000,
      "rowLimit": 10000
     },
     "inputWidgets": {},
     "nuid": "e7675b2b-96e6-4785-8e5d-d5db611cf0a8",
     "showTitle": false,
     "tableResultSettingsMap": {},
     "title": ""
    }
   },
   "outputs": [],
   "source": [
    "# Converter colunas de string para data\n",
    "df = (\n",
    "    df\n",
    "    .withColumn(\"data_contratacao\", F.to_date(F.col(\"data_contratacao\"), \"yyyy-MM-dd\"))\n",
    "    .withColumn(\"data_nascimento\", F.to_date(F.col(\"data_nascimento\"), \"yyyy-MM-dd\"))\n",
    ")\n",
    "display(df)"
   ]
  },
  {
   "cell_type": "code",
   "execution_count": 0,
   "metadata": {
    "application/vnd.databricks.v1+cell": {
     "cellMetadata": {
      "byteLimit": 2048000,
      "rowLimit": 10000
     },
     "inputWidgets": {},
     "nuid": "ecf1afa1-b1b1-435b-9520-d321ccb2c794",
     "showTitle": false,
     "tableResultSettingsMap": {},
     "title": ""
    }
   },
   "outputs": [],
   "source": [
    "# Funções de tratamento de datas\n",
    "df = (\n",
    "    df\n",
    "        .withColumn(\"idade\", F.floor(F.datediff(F.current_date(), F.col(\"data_nascimento\")) / 365)) \n",
    "        .withColumn(\"tempo_empresa\", F.floor(F.datediff(F.current_date(), F.col(\"data_contratacao\")) / 365))\n",
    "        .withColumn(\"proximo_aniversario\", F.add_months(F.col(\"data_nascimento\"), 12 * (F.year(F.current_date()) - F.year(F.col(\"data_nascimento\")))))\n",
    "        .withColumn(\"ano_contratacao\", F.year(F.col(\"data_contratacao\"))) \n",
    "        .withColumn(\"mes_contratacao\", F.month(F.col(\"data_contratacao\"))) \n",
    "        .withColumn(\"dia_contratacao\", F.dayofmonth(F.col(\"data_contratacao\")))\n",
    ")\n",
    "display(df)"
   ]
  },
  {
   "cell_type": "markdown",
   "metadata": {
    "application/vnd.databricks.v1+cell": {
     "cellMetadata": {
      "byteLimit": 2048000,
      "rowLimit": 10000
     },
     "inputWidgets": {},
     "nuid": "09477230-b64e-4b52-9afc-7eebca0a1f97",
     "showTitle": false,
     "tableResultSettingsMap": {},
     "title": ""
    }
   },
   "source": [
    "\n",
    "**Equivalência em SQL**\n"
   ]
  },
  {
   "cell_type": "code",
   "execution_count": 0,
   "metadata": {
    "application/vnd.databricks.v1+cell": {
     "cellMetadata": {
      "byteLimit": 2048000,
      "implicitDf": true,
      "rowLimit": 10000
     },
     "inputWidgets": {},
     "nuid": "893b8716-eb32-49b8-9df5-26dac80dc71d",
     "showTitle": false,
     "tableResultSettingsMap": {},
     "title": ""
    }
   },
   "outputs": [],
   "source": [
    "%sql\n",
    "SELECT \n",
    "    nome,\n",
    "    departamento,\n",
    "    salario,\n",
    "    bonus,\n",
    "    data_contratacao,\n",
    "    data_nascimento,\n",
    "    FLOOR(DATEDIFF(CURRENT_DATE(), data_nascimento) / 365) AS idade,\n",
    "    FLOOR(DATEDIFF(CURRENT_DATE(), data_contratacao) / 365) AS tempo_empresa,\n",
    "    ADD_MONTHS(data_nascimento, 12 * (YEAR(CURRENT_DATE()) - YEAR(data_nascimento))) AS proximo_aniversario,\n",
    "    YEAR(data_contratacao) AS ano_contratacao,\n",
    "    MONTH(data_contratacao) AS mes_contratacao,\n",
    "    DAYOFMONTH(data_contratacao) AS dia_contratacao\n",
    "FROM funcionarios;"
   ]
  },
  {
   "cell_type": "markdown",
   "metadata": {
    "application/vnd.databricks.v1+cell": {
     "cellMetadata": {
      "byteLimit": 2048000,
      "rowLimit": 10000
     },
     "inputWidgets": {},
     "nuid": "b720f2a4-c4a0-482e-85be-053f13fab730",
     "showTitle": false,
     "tableResultSettingsMap": {},
     "title": ""
    }
   },
   "source": [
    "`[INFO]: FIM DO NOTEBOOK`"
   ]
  }
 ],
 "metadata": {
  "application/vnd.databricks.v1+notebook": {
   "computePreferences": {
    "hardware": {
     "accelerator": null,
     "gpuPoolId": null,
     "memory": null
    }
   },
   "dashboards": [],
   "environmentMetadata": null,
   "inputWidgetPreferences": null,
   "language": "python",
   "notebookMetadata": {
    "mostRecentlyExecutedCommandWithImplicitDF": {
     "commandId": 4198194417610157,
     "dataframes": [
      "_sqldf"
     ]
    },
    "pythonIndentUnit": 2
   },
   "notebookName": "02.03.manipulacao-de-dados-funcoes",
   "widgets": {}
  },
  "language_info": {
   "name": "python"
  }
 },
 "nbformat": 4,
 "nbformat_minor": 0
}
