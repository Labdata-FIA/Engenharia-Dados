{
 "cells": [
  {
   "cell_type": "markdown",
   "metadata": {
    "application/vnd.databricks.v1+cell": {
     "cellMetadata": {
      "byteLimit": 2048000,
      "rowLimit": 10000
     },
     "inputWidgets": {},
     "nuid": "37b17b28-2276-4c06-88a9-450ae2b8bb82",
     "showTitle": false,
     "tableResultSettingsMap": {},
     "title": ""
    }
   },
   "source": [
    "### Manipulação de Dados com DataFrames no PySpark - ForeachPartition\n",
    "\n",
    "A função **`foreachPartition`** no PySpark é uma operação que permite aplicar uma função a cada partição do RDD ou DataFrame. Ao contrário do **`foreach`**, que aplica a função a cada linha (elemento), o **`foreachPartition`** trabalha em nível de partição, ou seja, a função é aplicada a um grupo de linhas de cada vez.\n",
    "\n",
    "Essa função é útil quando você deseja executar operações que envolvem múltiplas linhas ao mesmo tempo, como inserir dados em um banco de dados, escrever em arquivos, ou outras operações onde é mais eficiente lidar com um lote de dados ao invés de elementos individuais.\n",
    "\n",
    "\n",
    "### Benefícios do `foreachPartition`:\n",
    "\n",
    "1. **Desempenho**: Operar em nível de partição reduz a sobrecarga de inicialização de operações externas (como conexões de banco de dados ou escrita em arquivos).\n",
    "2. **Conexões externas**: Se você precisar conectar a serviços externos (como um banco de dados ou um API), pode inicializar a conexão uma vez por partição ao invés de para cada linha, melhorando significativamente a eficiência.\n",
    "\n",
    "### Exemplo\n",
    "\n",
    "Vamos criar um exemplo prático com massa de dados, onde usamos **`foreachPartition`** para simular a gravação de dados em uma operação externa (como gravar em um banco de dados).\n",
    "\n",
    "#### Criar Massa de Dados\n"
   ]
  },
  {
   "cell_type": "code",
   "execution_count": 0,
   "metadata": {
    "application/vnd.databricks.v1+cell": {
     "cellMetadata": {
      "byteLimit": 2048000,
      "rowLimit": 10000
     },
     "inputWidgets": {},
     "nuid": "226086c6-02fa-47e2-9dec-c3c106852ae6",
     "showTitle": false,
     "tableResultSettingsMap": {},
     "title": ""
    }
   },
   "outputs": [],
   "source": [
    "spark"
   ]
  },
  {
   "cell_type": "code",
   "execution_count": 0,
   "metadata": {
    "application/vnd.databricks.v1+cell": {
     "cellMetadata": {
      "byteLimit": 2048000,
      "rowLimit": 10000
     },
     "inputWidgets": {},
     "nuid": "3d2f4b5a-23b8-4906-bb3d-dde3b4b1afa2",
     "showTitle": false,
     "tableResultSettingsMap": {},
     "title": ""
    }
   },
   "outputs": [],
   "source": [
    "from pyspark import TaskContext\n",
    "import random\n",
    "\n",
    "# Gerar massa de dados aleatórios\n",
    "data = [(i, random.randint(1, 100)) for i in range(100)]\n",
    "\n",
    "# Criar o DataFrame\n",
    "df = spark.createDataFrame(data, [\"id\", \"value\"])\n",
    "\n",
    "# Mostrar os dados iniciais\n",
    "display(df)"
   ]
  },
  {
   "cell_type": "markdown",
   "metadata": {
    "application/vnd.databricks.v1+cell": {
     "cellMetadata": {
      "byteLimit": 2048000,
      "rowLimit": 10000
     },
     "inputWidgets": {},
     "nuid": "be325b05-782f-449b-b69c-816759fad6ca",
     "showTitle": false,
     "tableResultSettingsMap": {},
     "title": ""
    }
   },
   "source": [
    "\n",
    "#### Aplicar `foreachPartition`:"
   ]
  },
  {
   "cell_type": "markdown",
   "metadata": {
    "application/vnd.databricks.v1+cell": {
     "cellMetadata": {
      "byteLimit": 2048000,
      "rowLimit": 10000
     },
     "inputWidgets": {},
     "nuid": "d289255b-49d1-4477-8fc0-cd5a4248adb8",
     "showTitle": false,
     "tableResultSettingsMap": {},
     "title": ""
    }
   },
   "source": [
    "> **ATENÇÃO**: Precisa ser garantida a idempotência na escrita"
   ]
  },
  {
   "cell_type": "code",
   "execution_count": 0,
   "metadata": {
    "application/vnd.databricks.v1+cell": {
     "cellMetadata": {
      "byteLimit": 2048000,
      "rowLimit": 10000
     },
     "inputWidgets": {},
     "nuid": "bc429299-a19d-43a8-b377-4ded8b8c04a2",
     "showTitle": false,
     "tableResultSettingsMap": {},
     "title": ""
    }
   },
   "outputs": [],
   "source": [
    "# Função para processar cada partição\n",
    "def process_partition(iterator):\n",
    "    # Obter o ID da partição atual\n",
    "    partition_id = TaskContext.get().partitionId()\n",
    "    \n",
    "    # Inicializar a conexão com o \"banco de dados\" (simulado aqui com print)\n",
    "    print(f\"Iniciando o processamento da partição {partition_id}\")\n",
    "    \n",
    "    for row in iterator:\n",
    "        # Simular operação de inserção em um banco de dados\n",
    "        print(f\"Processando o ID: {row['id']} com valor: {row['value']}\")\n",
    "    \n",
    "    print(\"Fechando a conexão com o serviço externo para esta partição.\")"
   ]
  },
  {
   "cell_type": "code",
   "execution_count": 0,
   "metadata": {
    "application/vnd.databricks.v1+cell": {
     "cellMetadata": {
      "byteLimit": 2048000,
      "rowLimit": 10000
     },
     "inputWidgets": {},
     "nuid": "ea42eef6-8234-4313-8fef-c2abdc4a5ca6",
     "showTitle": false,
     "tableResultSettingsMap": {},
     "title": ""
    }
   },
   "outputs": [],
   "source": [
    "df.foreachPartition(process_partition)"
   ]
  },
  {
   "cell_type": "markdown",
   "metadata": {
    "application/vnd.databricks.v1+cell": {
     "cellMetadata": {
      "byteLimit": 2048000,
      "rowLimit": 10000
     },
     "inputWidgets": {},
     "nuid": "f3774e33-c9de-4b89-b112-7c9750c14b82",
     "showTitle": false,
     "tableResultSettingsMap": {},
     "title": ""
    }
   },
   "source": [
    "`[INFO]: FIM DO NOTEBOOK`"
   ]
  }
 ],
 "metadata": {
  "application/vnd.databricks.v1+notebook": {
   "computePreferences": {
    "hardware": {
     "accelerator": null,
     "gpuPoolId": null,
     "memory": null
    }
   },
   "dashboards": [],
   "environmentMetadata": null,
   "inputWidgetPreferences": null,
   "language": "python",
   "notebookMetadata": {
    "pythonIndentUnit": 2
   },
   "notebookName": "02.07.manipulacao-de-dados-foreachpartition",
   "widgets": {}
  },
  "language_info": {
   "name": "python"
  }
 },
 "nbformat": 4,
 "nbformat_minor": 0
}
