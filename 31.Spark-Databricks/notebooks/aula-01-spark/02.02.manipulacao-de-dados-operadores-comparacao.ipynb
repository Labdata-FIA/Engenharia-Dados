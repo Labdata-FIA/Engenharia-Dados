{
 "cells": [
  {
   "cell_type": "markdown",
   "metadata": {
    "application/vnd.databricks.v1+cell": {
     "cellMetadata": {
      "byteLimit": 2048000,
      "rowLimit": 10000
     },
     "inputWidgets": {},
     "nuid": "0443e1bd-79fc-4609-96a4-5b2b2c3fedcf",
     "showTitle": false,
     "tableResultSettingsMap": {},
     "title": ""
    }
   },
   "source": [
    "### Manipulação de Dados com DataFrames no PySpark - Operadores de Comparação \n",
    "\n",
    "| Operador      | Descrição                                                                    | Exemplo PySpark (com `F.col`)                                                               | Resultado                                                                                         |\n",
    "|---------------|------------------------------------------------------------------------------|---------------------------------------------------------------------------------------------|---------------------------------------------------------------------------------------------------|\n",
    "| `==` ou `===` | Compara se os valores são **iguais**                                         | `df.filter(F.col(\"col1\") == F.col(\"col2\"))` ou `df.filter(F.col(\"col1\") === F.col(\"col2\"))` | Retorna as linhas onde os valores em `col1` e `col2` são iguais                                   |\n",
    "| `!=` ou `<>`  | Compara se os valores são **diferentes**                                     | `df.filter(F.col(\"col1\") != F.col(\"col2\"))` ou `df.filter(F.col(\"col1\") <> F.col(\"col2\"))`  | Retorna as linhas onde os valores em `col1` e `col2` são diferentes                               |\n",
    "| `>`           | Compara se o valor da coluna da esquerda é **maior** que o da direita        | `df.filter(F.col(\"col1\") > F.col(\"col2\"))`                                                  | Retorna as linhas onde o valor em `col1` é maior que o valor em `col2`                            |\n",
    "| `<`           | Compara se o valor da coluna da esquerda é **menor** que o da direita        | `df.filter(F.col(\"col1\") < F.col(\"col2\"))`                                                  | Retorna as linhas onde o valor em `col1` é menor que o valor em `col2`                            |\n",
    "| `>=`          | Compara se o valor da coluna da esquerda é **maior ou igual** ao da direita  | `df.filter(F.col(\"col1\") >= F.col(\"col2\"))`                                                 | Retorna as linhas onde o valor em `col1` é maior ou igual ao valor em `col2`                      |\n",
    "| `<=`          | Compara se o valor da coluna da esquerda é **menor ou igual** ao da direita  | `df.filter(F.col(\"col1\") <= F.col(\"col2\"))`                                                 | Retorna as linhas onde o valor em `col1` é menor ou igual ao valor em `col2`                      |\n",
    "| `isNull`      | Verifica se o valor da coluna é **nulo**                                     | `df.filter(F.col(\"col1\").isNull())`                                                         | Retorna as linhas onde o valor em `col1` é `null`                                                 |\n",
    "| `isNotNull`   | Verifica se o valor da coluna **não é nulo**                                 | `df.filter(F.col(\"col1\").isNotNull())`                                                      | Retorna as linhas onde o valor em `col1` não é `null`                                             |\n",
    "| `between`     | Verifica se o valor da coluna está **entre** dois valores (inclusive)        | `df.filter(F.col(\"col1\").between(10, 20))`                                                  | Retorna as linhas onde o valor em `col1` está entre 10 e 20, inclusive                            |\n",
    "| `like`        | Verifica se o valor da coluna **corresponde ao padrão** especificado         | `df.filter(F.col(\"col1\").like(\"%valor%\"))`                                                  | Retorna as linhas onde o valor em `col1` corresponde ao padrão `%valor%` (com caracteres curinga) | \n",
    "| `rlike`       | Verifica se o valor da coluna corresponde a uma **expressão regular**        | `df.filter(F.col(\"col1\").rlike(\"^val.*\"))`                                                  | Retorna as linhas onde o valor em `col1` corresponde à expressão regular `^val.*`                 |\n",
    "| `startswith`  | Verifica se o valor da coluna **começa com** um determinado valor            | `df.filter(F.col(\"col1\").startswith(\"val\"))`                                                | Retorna as linhas onde o valor em `col1` começa com `\"val\"`                                       |\n",
    "| `endswith`    | Verifica se o valor da coluna **termina com** um determinado valor           | `df.filter(F.col(\"col1\").endswith(\"or\"))`                                                   | Retorna as linhas onde o valor em `col1` termina com `\"or\"`                                       |\n",
    "| `in`          | Verifica se o valor da coluna está **em uma lista** de valores               | `df.filter(F.col(\"col1\").isin(\"valor1\", \"valor2\", \"valor3\"))`                               | Retorna as linhas onde o valor em `col1` está em `(\"valor1\", \"valor2\", \"valor3\")`                 |\n",
    "| `contains`    | Verifica se o valor da coluna **contém** um determinado valor                | `df.filter(F.col(\"col1\").contains(\"valor\"))`                                                | Retorna as linhas onde o valor em `col1` contém o valor `\"valor\"`                                 |\n",
    "| `&` (AND)     | Compara se **ambas** as condições são verdadeiras                            | `df.filter((F.col(\"age\") > 30) & (F.col(\"salary\") > 5000))`                                 | Retorna as linhas onde `age > 30` **e** `salary > 5000`                                           |\n",
    "| `\\|` (OR)     | Compara se **uma ou ambas** as condições são verdadeiras                     | `df.filter((F.col(\"age\") > 30) \\| (F.col(\"salary\") > 5000))`                                | Retorna as linhas onde `age > 30` **ou** `salary > 5000`                                          |\n",
    "| `~` (NOT)     | Nega a condição fornecida                                                    | `df.filter(~(F.col(\"age\") > 30))`                                                           | Retorna as linhas onde `age` **não é** maior que 30                                               |\n",
    "\n",
    "#### Preparando os dados \n"
   ]
  },
  {
   "cell_type": "code",
   "execution_count": 0,
   "metadata": {
    "application/vnd.databricks.v1+cell": {
     "cellMetadata": {
      "byteLimit": 2048000,
      "rowLimit": 10000
     },
     "inputWidgets": {},
     "nuid": "a778bea8-5a72-4bd8-a2fb-8d61dae5a24a",
     "showTitle": false,
     "tableResultSettingsMap": {},
     "title": ""
    }
   },
   "outputs": [],
   "source": [
    "spark"
   ]
  },
  {
   "cell_type": "code",
   "execution_count": 0,
   "metadata": {
    "application/vnd.databricks.v1+cell": {
     "cellMetadata": {
      "byteLimit": 2048000,
      "rowLimit": 10000
     },
     "inputWidgets": {},
     "nuid": "2283fbc0-7a1f-4a1d-8156-68e18a24c283",
     "showTitle": false,
     "tableResultSettingsMap": {},
     "title": ""
    }
   },
   "outputs": [],
   "source": [
    "from pyspark.sql import functions as F\n",
    "\n",
    "# Massa de dados\n",
    "data = [(\"Alice\", 30, 5000), (\"Bob\", 45, 6000), (\"Charlie\", 25, 4000), (\"David\", 35, 4500), (\"Eve\", 40, 5500)]\n",
    "\n",
    "# Criar DataFrame\n",
    "df = spark.createDataFrame(data, [\"name\", \"age\", \"salary\"])\n",
    "\n",
    "df.createOrReplaceTempView('person')\n",
    "\n",
    "display(df)"
   ]
  },
  {
   "cell_type": "markdown",
   "metadata": {
    "application/vnd.databricks.v1+cell": {
     "cellMetadata": {
      "byteLimit": 2048000,
      "rowLimit": 10000
     },
     "inputWidgets": {},
     "nuid": "696228cd-5059-46d5-8e93-8d70069c24d8",
     "showTitle": false,
     "tableResultSettingsMap": {},
     "title": ""
    }
   },
   "source": [
    "\n",
    "#### Filtro: maior que\n"
   ]
  },
  {
   "cell_type": "code",
   "execution_count": 0,
   "metadata": {
    "application/vnd.databricks.v1+cell": {
     "cellMetadata": {
      "byteLimit": 2048000,
      "rowLimit": 10000
     },
     "inputWidgets": {},
     "nuid": "89ea25ad-b5fc-4cd8-9b7f-43b569ee4a6b",
     "showTitle": false,
     "tableResultSettingsMap": {},
     "title": ""
    }
   },
   "outputs": [],
   "source": [
    "# Exemplo de comparação: idade maior que 30\n",
    "display(df.filter(F.col(\"age\") > 30))"
   ]
  },
  {
   "cell_type": "markdown",
   "metadata": {
    "application/vnd.databricks.v1+cell": {
     "cellMetadata": {
      "byteLimit": 2048000,
      "rowLimit": 10000
     },
     "inputWidgets": {},
     "nuid": "98977d08-89e6-433c-ad7b-0ac28e84b2ee",
     "showTitle": false,
     "tableResultSettingsMap": {},
     "title": ""
    }
   },
   "source": [
    "\n",
    "**Equivalente em SQL**\n"
   ]
  },
  {
   "cell_type": "code",
   "execution_count": 0,
   "metadata": {
    "application/vnd.databricks.v1+cell": {
     "cellMetadata": {
      "byteLimit": 2048000,
      "implicitDf": true,
      "rowLimit": 10000
     },
     "inputWidgets": {},
     "nuid": "6e0b7c1e-76a2-4acf-874c-6967f0dc0f2f",
     "showTitle": false,
     "tableResultSettingsMap": {},
     "title": ""
    }
   },
   "outputs": [],
   "source": [
    "%sql\n",
    "SELECT *\n",
    "  FROM person\n",
    " WHERE age > 30"
   ]
  },
  {
   "cell_type": "markdown",
   "metadata": {
    "application/vnd.databricks.v1+cell": {
     "cellMetadata": {
      "byteLimit": 2048000,
      "rowLimit": 10000
     },
     "inputWidgets": {},
     "nuid": "29ef171d-3624-48a2-9f8a-d83387c90a5e",
     "showTitle": false,
     "tableResultSettingsMap": {},
     "title": ""
    }
   },
   "source": [
    "\n",
    "#### Filtro: começa com\n"
   ]
  },
  {
   "cell_type": "code",
   "execution_count": 0,
   "metadata": {
    "application/vnd.databricks.v1+cell": {
     "cellMetadata": {
      "byteLimit": 2048000,
      "rowLimit": 10000
     },
     "inputWidgets": {},
     "nuid": "0dda1103-5c15-45df-a9d9-5784a88dad7b",
     "showTitle": false,
     "tableResultSettingsMap": {},
     "title": ""
    }
   },
   "outputs": [],
   "source": [
    "# Exemplo de comparação: nome começa com 'A'\n",
    "display(df.filter(F.col(\"name\").startswith(\"A\")))"
   ]
  },
  {
   "cell_type": "markdown",
   "metadata": {
    "application/vnd.databricks.v1+cell": {
     "cellMetadata": {
      "byteLimit": 2048000,
      "rowLimit": 10000
     },
     "inputWidgets": {},
     "nuid": "a7433b2f-fea6-4c71-99ce-5aaff9ea4fcc",
     "showTitle": false,
     "tableResultSettingsMap": {},
     "title": ""
    }
   },
   "source": [
    "\n",
    "**Equivalente em SQL**\n"
   ]
  },
  {
   "cell_type": "code",
   "execution_count": 0,
   "metadata": {
    "application/vnd.databricks.v1+cell": {
     "cellMetadata": {
      "byteLimit": 2048000,
      "implicitDf": true,
      "rowLimit": 10000
     },
     "inputWidgets": {},
     "nuid": "b5648a83-8ea2-4f95-a57c-f51c83678143",
     "showTitle": false,
     "tableResultSettingsMap": {},
     "title": ""
    }
   },
   "outputs": [],
   "source": [
    "%sql\n",
    "SELECT *\n",
    "  FROM person\n",
    " WHERE name LIKE 'A%'"
   ]
  },
  {
   "cell_type": "markdown",
   "metadata": {
    "application/vnd.databricks.v1+cell": {
     "cellMetadata": {
      "byteLimit": 2048000,
      "rowLimit": 10000
     },
     "inputWidgets": {},
     "nuid": "ed9ab198-12c0-45c8-9048-1519e0844691",
     "showTitle": false,
     "tableResultSettingsMap": {},
     "title": ""
    }
   },
   "source": [
    "\n",
    "#### Filtro: contém\n"
   ]
  },
  {
   "cell_type": "code",
   "execution_count": 0,
   "metadata": {
    "application/vnd.databricks.v1+cell": {
     "cellMetadata": {
      "byteLimit": 2048000,
      "rowLimit": 10000
     },
     "inputWidgets": {},
     "nuid": "c51eb160-52ee-4b10-b287-14e3614d147b",
     "showTitle": false,
     "tableResultSettingsMap": {},
     "title": ""
    }
   },
   "outputs": [],
   "source": [
    "# Exemplo de comparação: nome contém 'e'\n",
    "display(df.filter(F.col(\"name\").contains(\"e\")))"
   ]
  },
  {
   "cell_type": "markdown",
   "metadata": {
    "application/vnd.databricks.v1+cell": {
     "cellMetadata": {
      "byteLimit": 2048000,
      "rowLimit": 10000
     },
     "inputWidgets": {},
     "nuid": "8ae11551-855b-40eb-bb84-994915d63bc7",
     "showTitle": false,
     "tableResultSettingsMap": {},
     "title": ""
    }
   },
   "source": [
    "\n",
    "**Equivalente em SQL**\n"
   ]
  },
  {
   "cell_type": "code",
   "execution_count": 0,
   "metadata": {
    "application/vnd.databricks.v1+cell": {
     "cellMetadata": {
      "byteLimit": 2048000,
      "implicitDf": true,
      "rowLimit": 10000
     },
     "inputWidgets": {},
     "nuid": "a1311d50-77fe-424c-a6f9-46bd133cbb1b",
     "showTitle": false,
     "tableResultSettingsMap": {},
     "title": ""
    }
   },
   "outputs": [],
   "source": [
    "%sql\n",
    "SELECT *\n",
    "  FROM person\n",
    " WHERE name LIKE '%e%'"
   ]
  },
  {
   "cell_type": "markdown",
   "metadata": {
    "application/vnd.databricks.v1+cell": {
     "cellMetadata": {
      "byteLimit": 2048000,
      "rowLimit": 10000
     },
     "inputWidgets": {},
     "nuid": "834bf36f-982b-46c5-a58f-2576f812bdda",
     "showTitle": false,
     "tableResultSettingsMap": {},
     "title": ""
    }
   },
   "source": [
    "\n",
    "#### Filtro: between\n"
   ]
  },
  {
   "cell_type": "code",
   "execution_count": 0,
   "metadata": {
    "application/vnd.databricks.v1+cell": {
     "cellMetadata": {
      "byteLimit": 2048000,
      "rowLimit": 10000
     },
     "inputWidgets": {},
     "nuid": "7aa19f52-e4f4-40f4-94d4-7a1fbc403c51",
     "showTitle": false,
     "tableResultSettingsMap": {},
     "title": ""
    }
   },
   "outputs": [],
   "source": [
    "# Exemplo de comparação: idade está entre 25 e 40\n",
    "display(df.filter(F.col(\"age\").between(25, 40)))"
   ]
  },
  {
   "cell_type": "markdown",
   "metadata": {
    "application/vnd.databricks.v1+cell": {
     "cellMetadata": {
      "byteLimit": 2048000,
      "rowLimit": 10000
     },
     "inputWidgets": {},
     "nuid": "c1def467-462c-44fa-8c3b-f745b9514d4f",
     "showTitle": false,
     "tableResultSettingsMap": {},
     "title": ""
    }
   },
   "source": [
    "\n",
    "**Equivalente em SQL**\n"
   ]
  },
  {
   "cell_type": "code",
   "execution_count": 0,
   "metadata": {
    "application/vnd.databricks.v1+cell": {
     "cellMetadata": {
      "byteLimit": 2048000,
      "implicitDf": true,
      "rowLimit": 10000
     },
     "inputWidgets": {},
     "nuid": "894f8b4e-912f-4022-9646-828c7afd4c8a",
     "showTitle": false,
     "tableResultSettingsMap": {},
     "title": ""
    }
   },
   "outputs": [],
   "source": [
    "%sql\n",
    "SELECT *\n",
    "  FROM person\n",
    " WHERE age BETWEEN 25 AND 40"
   ]
  },
  {
   "cell_type": "markdown",
   "metadata": {
    "application/vnd.databricks.v1+cell": {
     "cellMetadata": {
      "byteLimit": 2048000,
      "rowLimit": 10000
     },
     "inputWidgets": {},
     "nuid": "377905ca-7e8b-463c-aa0b-4ff61098912e",
     "showTitle": false,
     "tableResultSettingsMap": {},
     "title": ""
    }
   },
   "source": [
    "\n",
    "#### Filtro: coluna NÃO NULA\n"
   ]
  },
  {
   "cell_type": "code",
   "execution_count": 0,
   "metadata": {
    "application/vnd.databricks.v1+cell": {
     "cellMetadata": {
      "byteLimit": 2048000,
      "rowLimit": 10000
     },
     "inputWidgets": {},
     "nuid": "4c1028db-d848-4777-9cb9-4c6927cb746a",
     "showTitle": false,
     "tableResultSettingsMap": {},
     "title": ""
    }
   },
   "outputs": [],
   "source": [
    "# Exemplo de comparação: idade não nula\n",
    "display(df.filter(F.col(\"age\").isNotNull()))"
   ]
  },
  {
   "cell_type": "markdown",
   "metadata": {
    "application/vnd.databricks.v1+cell": {
     "cellMetadata": {
      "byteLimit": 2048000,
      "rowLimit": 10000
     },
     "inputWidgets": {},
     "nuid": "b1c77a0b-47d2-4f51-9911-96bd2d5ab11a",
     "showTitle": false,
     "tableResultSettingsMap": {},
     "title": ""
    }
   },
   "source": [
    "\n",
    "**Equivalente em SQL**\n"
   ]
  },
  {
   "cell_type": "code",
   "execution_count": 0,
   "metadata": {
    "application/vnd.databricks.v1+cell": {
     "cellMetadata": {
      "byteLimit": 2048000,
      "implicitDf": true,
      "rowLimit": 10000
     },
     "inputWidgets": {},
     "nuid": "7aada41c-99c9-4a16-8d55-50658336e40a",
     "showTitle": false,
     "tableResultSettingsMap": {},
     "title": ""
    }
   },
   "outputs": [],
   "source": [
    "%sql\n",
    "SELECT *\n",
    "  FROM person\n",
    " WHERE age IS NOT NULL"
   ]
  },
  {
   "cell_type": "markdown",
   "metadata": {
    "application/vnd.databricks.v1+cell": {
     "cellMetadata": {
      "byteLimit": 2048000,
      "rowLimit": 10000
     },
     "inputWidgets": {},
     "nuid": "5e367cdb-2c52-40b8-b224-5c7e2d6b9ec1",
     "showTitle": false,
     "tableResultSettingsMap": {},
     "title": ""
    }
   },
   "source": [
    "\n",
    "#### Filtro: operador lógico AND (E)\n"
   ]
  },
  {
   "cell_type": "code",
   "execution_count": 0,
   "metadata": {
    "application/vnd.databricks.v1+cell": {
     "cellMetadata": {
      "byteLimit": 2048000,
      "rowLimit": 10000
     },
     "inputWidgets": {},
     "nuid": "7a0f6580-984f-40d7-9f71-97e37c335f24",
     "showTitle": false,
     "tableResultSettingsMap": {},
     "title": ""
    }
   },
   "outputs": [],
   "source": [
    "# Exemplo de AND: idade > 30 e salário > 5000\n",
    "display(df.filter((F.col(\"age\") > 30) & (F.col(\"salary\") > 5000)))"
   ]
  },
  {
   "cell_type": "markdown",
   "metadata": {
    "application/vnd.databricks.v1+cell": {
     "cellMetadata": {
      "byteLimit": 2048000,
      "rowLimit": 10000
     },
     "inputWidgets": {},
     "nuid": "8285a3e9-a6f5-47dc-949a-422069b5a679",
     "showTitle": false,
     "tableResultSettingsMap": {},
     "title": ""
    }
   },
   "source": [
    "\n",
    "**Equivalente em SQL**\n"
   ]
  },
  {
   "cell_type": "code",
   "execution_count": 0,
   "metadata": {
    "application/vnd.databricks.v1+cell": {
     "cellMetadata": {
      "byteLimit": 2048000,
      "implicitDf": true,
      "rowLimit": 10000
     },
     "inputWidgets": {},
     "nuid": "953eb61e-4143-4129-be88-b7e171581eb2",
     "showTitle": false,
     "tableResultSettingsMap": {},
     "title": ""
    }
   },
   "outputs": [],
   "source": [
    "%sql\n",
    "SELECT *\n",
    "  FROM person\n",
    " WHERE age > 30 AND salary > 5000"
   ]
  },
  {
   "cell_type": "markdown",
   "metadata": {
    "application/vnd.databricks.v1+cell": {
     "cellMetadata": {
      "byteLimit": 2048000,
      "rowLimit": 10000
     },
     "inputWidgets": {},
     "nuid": "c3bd88ec-b141-43fd-b138-5d8d517ac9b1",
     "showTitle": false,
     "tableResultSettingsMap": {},
     "title": ""
    }
   },
   "source": [
    "\n",
    "#### Filtro: operador lógico OR (OU)\n"
   ]
  },
  {
   "cell_type": "code",
   "execution_count": 0,
   "metadata": {
    "application/vnd.databricks.v1+cell": {
     "cellMetadata": {
      "byteLimit": 2048000,
      "rowLimit": 10000
     },
     "inputWidgets": {},
     "nuid": "40e5bc1d-f51b-4818-a918-787ae9d78614",
     "showTitle": false,
     "tableResultSettingsMap": {},
     "title": ""
    }
   },
   "outputs": [],
   "source": [
    "# Exemplo de OR: idade > 30 ou salário > 5000\n",
    "display(df.filter((F.col(\"age\") > 30) | (F.col(\"salary\") > 5000)))"
   ]
  },
  {
   "cell_type": "markdown",
   "metadata": {
    "application/vnd.databricks.v1+cell": {
     "cellMetadata": {
      "byteLimit": 2048000,
      "rowLimit": 10000
     },
     "inputWidgets": {},
     "nuid": "b99bd2ca-7e5c-4240-a7ad-29d7ad6a5a1f",
     "showTitle": false,
     "tableResultSettingsMap": {},
     "title": ""
    }
   },
   "source": [
    "\n",
    "**Equivalente em SQL**\n"
   ]
  },
  {
   "cell_type": "code",
   "execution_count": 0,
   "metadata": {
    "application/vnd.databricks.v1+cell": {
     "cellMetadata": {
      "byteLimit": 2048000,
      "implicitDf": true,
      "rowLimit": 10000
     },
     "inputWidgets": {},
     "nuid": "9177636b-6d4b-40c7-a88d-086e2266eafb",
     "showTitle": false,
     "tableResultSettingsMap": {},
     "title": ""
    }
   },
   "outputs": [],
   "source": [
    "%sql\n",
    "SELECT *\n",
    "  FROM person\n",
    " WHERE age > 30 OR salary > 5000"
   ]
  },
  {
   "cell_type": "markdown",
   "metadata": {
    "application/vnd.databricks.v1+cell": {
     "cellMetadata": {
      "byteLimit": 2048000,
      "rowLimit": 10000
     },
     "inputWidgets": {},
     "nuid": "7334f8f4-41d5-48c7-b050-54134fec4bce",
     "showTitle": false,
     "tableResultSettingsMap": {},
     "title": ""
    }
   },
   "source": [
    "\n",
    "#### Filtro: operador lógico NOT (NÃO)\n"
   ]
  },
  {
   "cell_type": "code",
   "execution_count": 0,
   "metadata": {
    "application/vnd.databricks.v1+cell": {
     "cellMetadata": {
      "byteLimit": 2048000,
      "rowLimit": 10000
     },
     "inputWidgets": {},
     "nuid": "35807e16-6184-4a7e-a785-02f6b526bd26",
     "showTitle": false,
     "tableResultSettingsMap": {},
     "title": ""
    }
   },
   "outputs": [],
   "source": [
    "# Exemplo de NOT: idade não maior que 30\n",
    "display(df.filter(~(F.col(\"age\") > 30)))"
   ]
  },
  {
   "cell_type": "markdown",
   "metadata": {
    "application/vnd.databricks.v1+cell": {
     "cellMetadata": {
      "byteLimit": 2048000,
      "rowLimit": 10000
     },
     "inputWidgets": {},
     "nuid": "43f0cc05-fb53-494c-b8a6-08a29a81716b",
     "showTitle": false,
     "tableResultSettingsMap": {},
     "title": ""
    }
   },
   "source": [
    "\n",
    "**Equivalente em SQL**\n"
   ]
  },
  {
   "cell_type": "code",
   "execution_count": 0,
   "metadata": {
    "application/vnd.databricks.v1+cell": {
     "cellMetadata": {
      "byteLimit": 2048000,
      "implicitDf": true,
      "rowLimit": 10000
     },
     "inputWidgets": {},
     "nuid": "629ff1c6-7ee5-4765-b695-9be75369cd32",
     "showTitle": false,
     "tableResultSettingsMap": {},
     "title": ""
    }
   },
   "outputs": [],
   "source": [
    "%sql\n",
    "SELECT *\n",
    "  FROM person\n",
    " WHERE NOT (age > 30)"
   ]
  },
  {
   "cell_type": "markdown",
   "metadata": {
    "application/vnd.databricks.v1+cell": {
     "cellMetadata": {},
     "inputWidgets": {},
     "nuid": "6086ad44-6173-41c4-85b2-a0f27508a080",
     "showTitle": false,
     "tableResultSettingsMap": {},
     "title": ""
    }
   },
   "source": [
    "`[INFO]: FIM DO NOTEBOOK`"
   ]
  }
 ],
 "metadata": {
  "application/vnd.databricks.v1+notebook": {
   "computePreferences": null,
   "dashboards": [],
   "environmentMetadata": null,
   "inputWidgetPreferences": null,
   "language": "python",
   "notebookMetadata": {
    "mostRecentlyExecutedCommandWithImplicitDF": {
     "commandId": 4198194417610136,
     "dataframes": [
      "_sqldf"
     ]
    },
    "pythonIndentUnit": 2
   },
   "notebookName": "02.02.manipulacao-de-dados-operadores-comparacao",
   "widgets": {}
  },
  "language_info": {
   "name": "python"
  }
 },
 "nbformat": 4,
 "nbformat_minor": 0
}
