{
 "cells": [
  {
   "cell_type": "code",
   "execution_count": null,
   "id": "aa051039-9d86-4a3b-a824-dd9c599fe1fd",
   "metadata": {},
   "outputs": [],
   "source": [
    "import time, json, requests\n",
    "from datetime import datetime\n",
    "from zoneinfo import ZoneInfo\n",
    "from pyspark.sql import SparkSession\n",
    "from pyspark.sql.functions import col, concat_ws, to_date, upper\n",
    "from delta.tables import DeltaTable\n",
    "from delta import configure_spark_with_delta_pip\n",
    "from pyspark.sql.types import *"
   ]
  },
  {
   "cell_type": "code",
   "execution_count": null,
   "id": "47a2ec41-e4c3-419a-be5a-f855198579ac",
   "metadata": {},
   "outputs": [],
   "source": [
    "# Configuração do Spark com Delta Lake\n",
    "builder = SparkSession.builder \\\n",
    "    .appName(\"LabDemo\") \\\n",
    "    .config(\"spark.sql.extensions\", \"io.delta.sql.DeltaSparkSessionExtension\") \\\n",
    "    .config(\"spark.sql.catalog.spark_catalog\", \"org.apache.spark.sql.delta.catalog.DeltaCatalog\") \n",
    "   \n",
    "\n",
    "spark = configure_spark_with_delta_pip(builder).enableHiveSupport().getOrCreate()"
   ]
  },
  {
   "cell_type": "markdown",
   "id": "502ad68a",
   "metadata": {},
   "source": [
    "## Consultando dados da Api"
   ]
  },
  {
   "cell_type": "code",
   "execution_count": null,
   "id": "08798e4c-7a8e-4461-b564-048af73e3d6a",
   "metadata": {},
   "outputs": [],
   "source": [
    "# A API permite results=N; ajuste conforme necessidade\n",
    "n=1\n",
    "url = f\"https://randomuser.me/api/?results={n}&inc=gender,name,location,email,login,registered,dob,phone,cell,id,picture,nat\"\n",
    "r = requests.get(url, timeout=30)\n",
    "r.raise_for_status()\n",
    "result= r.json()[\"results\"]\n",
    "print(result)"
   ]
  },
  {
   "cell_type": "markdown",
   "id": "748795df",
   "metadata": {},
   "source": [
    "## Enviando mensagem para o Kafka"
   ]
  },
  {
   "cell_type": "code",
   "execution_count": null,
   "id": "42dd31f4-7a2b-4cc4-962f-2396102d0670",
   "metadata": {},
   "outputs": [],
   "source": [
    "topic=\"bronze-user\"\n",
    "bootstrap_servers=\"kafka-broker:29092\"\n",
    "data=result\n",
    "print(data)\n",
    "# Cria um DataFrame com uma coluna 'value' contendo JSON\n",
    "json_data = [json.dumps(record) for record in data]\n",
    "df = spark.createDataFrame([(row,) for row in json_data], [\"value\"])\n",
    "print(df)\n",
    "# Envia para o Kafka\n",
    "df.write \\\n",
    "    .format(\"kafka\") \\\n",
    "    .option(\"kafka.bootstrap.servers\", bootstrap_servers) \\\n",
    "    .option(\"topic\", topic) \\\n",
    "    .save()"
   ]
  },
  {
   "cell_type": "code",
   "execution_count": null,
   "id": "2569196e-f5db-41fc-b99d-1b27a294e16d",
   "metadata": {},
   "outputs": [],
   "source": [
    "# Raízes do data lake (partições lógicas)\n",
    "BRONZE_ROOT = f\"s3a://bronze/randomuser\"\n",
    "SILVER_ROOT = f\"s3a://silver/randomuser\"\n",
    "GOLD_ROOT   = f\"s3a://gold/randomuser\""
   ]
  },
  {
   "cell_type": "code",
   "execution_count": null,
   "id": "0501158c",
   "metadata": {},
   "outputs": [],
   "source": [
    "saopaulo_tz = ZoneInfo(\"America/Sao_Paulo\")\n",
    "now_sp = datetime.now(saopaulo_tz)\n",
    "ts = now_sp.strftime(\"%Y%m%dT%H%M%S\")\n",
    "\n",
    "ingestion_date=now_sp.date()\n",
    "\n",
    "# Caminho da tabela Delta Bronze\n",
    "bronze_path = f\"{BRONZE_ROOT}/ingestion_date={ingestion_date}/randomuser_{ts}.json\"\n",
    "\n",
    "# Caminho da tabela Delta Silver\n",
    "silver_path = f\"{SILVER_ROOT}/ingestion_date={ingestion_date}\""
   ]
  },
  {
   "cell_type": "markdown",
   "id": "92ad23bd",
   "metadata": {},
   "source": [
    "### Ingestão camada Bronze"
   ]
  },
  {
   "cell_type": "code",
   "execution_count": null,
   "id": "a5b04669-1b55-4e7d-9866-6cffb02402a0",
   "metadata": {},
   "outputs": [],
   "source": [
    "# Paraleliza os objetos como strings JSON\n",
    "rdd_json = spark.sparkContext.parallelize([json.dumps(obj) for obj in result])\n",
    "\n",
    "#Lê com o leitor de JSON (ele infere nested structs corretamente)\n",
    "df = spark.read.option(\"samplingRatio\", 1.0).json(rdd_json)\n",
    "\n",
    "# Salva como JSON\n",
    "df.coalesce(1).write.mode(\"append\").json(bronze_path)\n",
    "print(\"Bronze gravado em:\", bronze_path)"
   ]
  },
  {
   "cell_type": "markdown",
   "id": "a90bddff-7b91-4e1f-a884-a74be9581986",
   "metadata": {},
   "source": [
    "### Lendo camada Bronze"
   ]
  },
  {
   "cell_type": "code",
   "execution_count": null,
   "id": "e183feed-69b1-4d91-a345-3787cfab4836",
   "metadata": {},
   "outputs": [],
   "source": [
    "df_bronze = spark.read.option(\"multiLine\", False).json(bronze_path)"
   ]
  },
  {
   "cell_type": "code",
   "execution_count": null,
   "id": "eef6a8d5-57d6-4ac6-9857-b51ff7a8b1ff",
   "metadata": {},
   "outputs": [],
   "source": [
    "print(df_bronze.printSchema())"
   ]
  },
  {
   "cell_type": "markdown",
   "id": "72d4b5ec",
   "metadata": {},
   "source": [
    "### Iniciando preparação para camada Silver"
   ]
  },
  {
   "cell_type": "code",
   "execution_count": 29,
   "id": "f048d66d-4de5-44f0-861a-68646f486a6d",
   "metadata": {},
   "outputs": [],
   "source": [
    "df_transformed = (\n",
    "    df_bronze\n",
    "    .withColumn(\"full_name\", concat_ws(\" \", col(\"name.first\"), col(\"name.last\")))\n",
    "    .withColumn(\"country\", col(\"location.country\"))\n",
    "    .withColumn(\"state\", col(\"location.state\"))\n",
    "    .withColumn(\"city\", col(\"location.city\"))\n",
    "    .withColumn(\"email\", upper(col(\"email\")))\n",
    "    .withColumn(\"birthdate\", to_date(\"dob.date\"))\n",
    "    .withColumn(\"registered_date\", to_date(\"registered.date\"))\n",
    "    .drop(\"location\", \"name\", \"dob\", \"registered\", \"login\", \"picture\", \"id\")\n",
    ")\n"
   ]
  },
  {
   "cell_type": "markdown",
   "id": "dff5cf3e",
   "metadata": {},
   "source": [
    "### Realizando o merge"
   ]
  },
  {
   "cell_type": "code",
   "execution_count": null,
   "id": "61d0afbb-e22a-4858-a922-756c86237fdc",
   "metadata": {},
   "outputs": [],
   "source": [
    "if not DeltaTable.isDeltaTable(spark, silver_path):\n",
    "    print(\"⚙️ Silver ainda não existe. Criando nova tabela Delta...\")\n",
    "    df_transformed.write.format(\"delta\").partitionBy(\"nat\").save(silver_path)\n",
    "else:\n",
    "    print(\"🔁 Silver já existe. Realizando merge (upsert)...\")\n",
    "    delta_table = DeltaTable.forPath(spark, silver_path)\n",
    "\n",
    "    delta_table.alias(\"silver\") \\\n",
    "        .merge(\n",
    "            df_transformed.alias(\"bronze\"),\n",
    "            \"silver.email = bronze.email\"\n",
    "        ) \\\n",
    "        .whenMatchedUpdate(set={\n",
    "            \"full_name\": \"bronze.full_name\",\n",
    "            \"country\": \"bronze.country\",\n",
    "            \"state\": \"bronze.state\",\n",
    "            \"city\": \"bronze.city\",\n",
    "            \"birthdate\": \"bronze.birthdate\",\n",
    "            \"registered_date\": \"bronze.registered_date\",\n",
    "            \"nat\": \"bronze.nat\"\n",
    "        }) \\\n",
    "        .whenNotMatchedInsert(values={\n",
    "            \"full_name\": \"bronze.full_name\",\n",
    "            \"country\": \"bronze.country\",\n",
    "            \"state\": \"bronze.state\",\n",
    "            \"city\": \"bronze.city\",\n",
    "            \"birthdate\": \"bronze.birthdate\",\n",
    "            \"registered_date\": \"bronze.registered_date\",\n",
    "            \"email\": \"bronze.email\",\n",
    "            \"nat\": \"bronze.nat\"\n",
    "        }) \\\n",
    "        .execute()"
   ]
  }
 ],
 "metadata": {
  "kernelspec": {
   "display_name": "Python 3 (ipykernel)",
   "language": "python",
   "name": "python3"
  },
  "language_info": {
   "codemirror_mode": {
    "name": "ipython",
    "version": 3
   },
   "file_extension": ".py",
   "mimetype": "text/x-python",
   "name": "python",
   "nbconvert_exporter": "python",
   "pygments_lexer": "ipython3",
   "version": "3.10.8"
  }
 },
 "nbformat": 4,
 "nbformat_minor": 5
}
