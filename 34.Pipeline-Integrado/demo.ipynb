{
 "cells": [
  {
   "cell_type": "code",
   "execution_count": null,
   "id": "5846567e-cdab-4816-841d-7032f4fbafcd",
   "metadata": {},
   "outputs": [],
   "source": [
    "# 🔹 Cria e configura a sessão do Spark — ponto de entrada para usar PySpark\n",
    "from pyspark.sql import SparkSession\n",
    "\n",
    "# 🔹 Configura o Spark para suportar Delta Lake usando o pacote Delta via pip (não Spark JARs)\n",
    "from delta import configure_spark_with_delta_pip\n",
    "\n",
    "# 🔹 Permite acessar e manipular tabelas Delta com operações como merge, update, delete, etc.\n",
    "from delta.tables import DeltaTable\n",
    "\n",
    "# 🔹 Funções do PySpark para transformação de dados:\n",
    "#    - col: acessa colunas dinamicamente\n",
    "#    - to_json: transforma struct em string JSON\n",
    "#    - lit: cria colunas com valores fixos\n",
    "#    - collect_list: agrega valores em listas\n",
    "#    - size: retorna o tamanho de arrays/listas\n",
    "from pyspark.sql.functions import col, to_json, lit, collect_list, size\n",
    "\n",
    "# 🔹 Define esquemas explícitos para DataFrames:\n",
    "#    - StructType e StructField criam a estrutura\n",
    "#    - IntegerType e StringType definem os tipos das colunas\n",
    "from pyspark.sql.types import StructType, StructField, IntegerType, StringType"
   ]
  },
  {
   "cell_type": "code",
   "execution_count": null,
   "id": "8b58a788-2a5c-4fb0-8470-946837689d7f",
   "metadata": {},
   "outputs": [],
   "source": [
    "# Configuração do Spark com Delta Lake\n",
    "\n",
    "# 🔹appName -  Define o nome da aplicação Spark (útil para logs e UI)\n",
    "# 🔹spark.sql.extensions -  Ativa a extensão do Delta Lake no Spark SQL — necessária para habilitar comandos Delta (ex: MERGE, VACUUM, etc.)\n",
    "# 🔹spark.sql.catalog.spark_catalog -  Substitui o catálogo padrão do Spark pelo DeltaCatalog — faz com que tabelas gerenciadas sejam Delta por padrão\n",
    "\n",
    "builder = SparkSession.builder \\\n",
    "    .appName(\"LabDemo\") \\\n",
    "    .config(\"spark.sql.extensions\", \"io.delta.sql.DeltaSparkSessionExtension\") \\\n",
    "    .config(\"spark.sql.catalog.spark_catalog\", \"org.apache.spark.sql.delta.catalog.DeltaCatalog\") \\\n",
    "    .config(\"spark.hadoop.fs.s3a.access.key\",\"datalake\") \\\n",
    "    .config(\"spark.hadoop.fs.s3a.secret.key\",\"datalake\") \\\n",
    "    .config(\"spark.hadoop.fs.s3a.endpoint\",\"http://minio:9000\") \\\n",
    "    .config(\"spark.hadoop.fs.s3a.path.style.access\", \"true\") \\\n",
    "    .config(\"spark.hadoop.fs.s3a.impl\", \"org.apache.hadoop.fs.s3a.S3AFileSystem\")\n"
   ]
  },
  {
   "cell_type": "code",
   "execution_count": null,
   "id": "eb086bc9-41bc-4f52-a31c-de734b31fb75",
   "metadata": {},
   "outputs": [],
   "source": [
    "# Configurações para a Session\n",
    "#Cria uma nova SparkSession ou retorna a existente, se já estiver ativa.\n",
    "spark = configure_spark_with_delta_pip(builder).getOrCreate()"
   ]
  },
  {
   "cell_type": "code",
   "execution_count": 8,
   "id": "5f17e51e-a0d5-4f07-950f-649829d3cf72",
   "metadata": {},
   "outputs": [],
   "source": [
    "# Define o nível de log\n",
    "spark.sparkContext.setLogLevel(\"ERROR\")"
   ]
  },
  {
   "cell_type": "code",
   "execution_count": null,
   "id": "f3102c05-b0f4-4000-8c5f-38945b972a49",
   "metadata": {},
   "outputs": [],
   "source": [
    "# Ela cria um DataFrame Spark em memória.\n",
    "\n",
    "df_initial = spark.createDataFrame([\n",
    "    (1, \"Bruno\", \"SP\"),\n",
    "    (2, \"Maria\", \"RJ\"),\n",
    "    (3, \"Victor\", \"MG\"),\n",
    "    (4, \"Tiago\", \"RJ\")\n",
    "], [\"id\", \"nome\", \"estado\"])"
   ]
  },
  {
   "cell_type": "code",
   "execution_count": null,
   "id": "5c3d4e1d-6393-4a62-ba84-c22580bbedb3",
   "metadata": {},
   "outputs": [],
   "source": [
    "#tipo do objeto\n",
    "type(df_initial)"
   ]
  },
  {
   "cell_type": "code",
   "execution_count": null,
   "id": "a35b3a47-95f9-46ca-91df-4b2a7bf2c795",
   "metadata": {},
   "outputs": [],
   "source": [
    "# Salva o arquivo no formato Delta\n",
    "df_initial.write.format(\"delta\").mode(\"overwrite\").save(\"file:///util/delta_clientes\")"
   ]
  },
  {
   "cell_type": "code",
   "execution_count": null,
   "id": "3cd2f91b-5654-4e3b-9bb0-937049f4594b",
   "metadata": {},
   "outputs": [],
   "source": [
    "# READ - Ler os dados\n",
    "spark.read.format(\"delta\").load(\"file:///util/delta_clientes\").show()"
   ]
  },
  {
   "cell_type": "code",
   "execution_count": null,
   "id": "ca10a8e8-46cd-4824-942e-979bc345e532",
   "metadata": {},
   "outputs": [],
   "source": [
    "# UPDATE - Atualizar o nome do Aluno\n",
    "delta_table = DeltaTable.forPath(spark, \"file:///util/delta_clientes\")\n",
    "delta_table.update(\n",
    "    condition = \"id = 1\",\n",
    "    set = {\"nome\": \"'Bruno da Silva'\"}\n",
    ")\n",
    "print(\"Após atualização:\")\n",
    "delta_table.toDF().show(truncate=False)"
   ]
  },
  {
   "cell_type": "code",
   "execution_count": null,
   "id": "fcfe1394-d99a-4943-88ea-07015d20688f",
   "metadata": {},
   "outputs": [],
   "source": [
    "# DELETE - Remover registros\n",
    "delta_table.delete(condition = \"estado == 'RJ'\")\n",
    "print(\"Após remoção\")\n",
    "delta_table.toDF().show(truncate=False)"
   ]
  },
  {
   "cell_type": "code",
   "execution_count": null,
   "id": "c03c041f-1d2e-4660-a894-f6b3f5da306f",
   "metadata": {},
   "outputs": [],
   "source": [
    "# Criando um DataFrame para alteração\n",
    "df_update = spark.createDataFrame([\n",
    "    (2, \"Maria Silva\", \"RJ\"),\n",
    "    (3, \"Pedro\", \"MG\"),\n",
    "    (4, \"Paulo\", \"MG\"),\n",
    "    (5, \"José\", \"MG\")\n",
    "], [\"id\", \"nome\", \"estado\"])"
   ]
  },
  {
   "cell_type": "code",
   "execution_count": null,
   "id": "97c560c7-e261-4bd0-98de-aaa1f6dce667",
   "metadata": {},
   "outputs": [],
   "source": [
    "# Buscando os dados e fazendo o Merge\n",
    "delta_table = DeltaTable.forPath(spark, \"file:///util/delta_clientes\")\n",
    "delta_table.alias(\"existingData\").merge(\n",
    "    df_update.alias(\"newData\"),\n",
    "    \"existingData.id = newData.id\").whenMatchedUpdateAll().whenNotMatchedInsertAll().execute()"
   ]
  },
  {
   "cell_type": "code",
   "execution_count": null,
   "id": "94c16b6b-5242-47e1-a370-e4c29780ef62",
   "metadata": {},
   "outputs": [],
   "source": [
    "delta_table = DeltaTable.forPath(spark, \"file:///util/delta_clientes\")\n",
    "print(\"Após inserção de novos registros:\")\n",
    "delta_table.toDF().show(truncate=False)"
   ]
  },
  {
   "cell_type": "code",
   "execution_count": null,
   "id": "ce253dae-495b-4339-9e9a-009e73ca6a25",
   "metadata": {},
   "outputs": [],
   "source": [
    "# Novos DataFrame\n",
    "df_update = spark.createDataFrame([\n",
    "    (2, \"Maria Silva - Alterada\", \"RJ\"),\n",
    "    (6, \"Paulo\", \"MG\")\n",
    "], [\"id\", \"nome\", \"estado\"])"
   ]
  },
  {
   "cell_type": "code",
   "execution_count": null,
   "id": "310c4092-d833-4864-84b7-f7f5d275232e",
   "metadata": {},
   "outputs": [],
   "source": [
    "# Merge com campos especificos\n",
    "\n",
    "delta_table = DeltaTable.forPath(spark, \"file:///util/delta_clientes\")\n",
    "delta_table.alias(\"oldData\").merge(\n",
    "    df_update.alias(\"upsertData\"),\n",
    "    \"oldData.id = upsertData.id\").whenMatchedUpdate(set={\n",
    "    \"oldData.nome\": \"upsertData.nome\",\n",
    "    \"oldData.estado\": \"upsertData.estado\"\n",
    "}).whenNotMatchedInsert(values={\n",
    "    \"id\": \"upsertData.id\",\n",
    "    \"nome\": \"upsertData.nome\",\n",
    "    \"estado\": \"upsertData.estado\"\n",
    "}).execute()"
   ]
  },
  {
   "cell_type": "code",
   "execution_count": null,
   "id": "4b8740ed-8a5a-491f-ac2e-e120054cf9f7",
   "metadata": {},
   "outputs": [],
   "source": [
    "delta_table = DeltaTable.forPath(spark, \"file:///util/delta_clientes\")\n",
    "print(\"Após inserção de novos registros:\")\n",
    "delta_table.toDF().show(truncate=False)"
   ]
  },
  {
   "cell_type": "markdown",
   "id": "304a2ce7-578e-4eb0-bb5b-028d064ad91b",
   "metadata": {},
   "source": [
    "## Filtros"
   ]
  },
  {
   "cell_type": "code",
   "execution_count": null,
   "id": "9555afa4-567e-4ecf-a13e-f80be4791369",
   "metadata": {},
   "outputs": [],
   "source": [
    "# Where simples\n",
    "delta_table.toDF().filter(\"id = 1\").show(truncate=False)"
   ]
  },
  {
   "cell_type": "code",
   "execution_count": null,
   "id": "b5870176-fe56-4657-8e9e-eec23ae24f48",
   "metadata": {},
   "outputs": [],
   "source": [
    "# Agrupar por estado\n",
    "delta_table.toDF().groupBy(\"estado\").count().show(truncate=False)"
   ]
  },
  {
   "cell_type": "code",
   "execution_count": null,
   "id": "71ea89c8-12fd-4678-8053-64fc1da29513",
   "metadata": {},
   "outputs": [],
   "source": [
    "# Agrupar por estado e filtrando seu total\n",
    "delta_table.toDF() \\\n",
    "    .groupBy(\"estado\") \\\n",
    "    .count() \\\n",
    "    .filter(col(\"count\") == 4) \\\n",
    "    .show(truncate=False)"
   ]
  },
  {
   "cell_type": "markdown",
   "id": "dfb81b94-8209-480d-b20e-470db5de18e3",
   "metadata": {
    "tags": []
   },
   "source": [
    "## 🕒 Time Travel - Visualizar versões antigas"
   ]
  },
  {
   "cell_type": "code",
   "execution_count": 60,
   "id": "eb57e7f9-4df8-4d98-9ea4-5dd34decd792",
   "metadata": {
    "tags": []
   },
   "outputs": [],
   "source": [
    "delta_table = DeltaTable.forPath(spark, \"file:///util/delta_clientes\")"
   ]
  },
  {
   "cell_type": "code",
   "execution_count": 61,
   "id": "e4ce76fa-b8e2-4ccd-8464-7b0b00393155",
   "metadata": {},
   "outputs": [],
   "source": [
    "# Obter o histórico completo\n",
    "history_df = delta_table.history()"
   ]
  },
  {
   "cell_type": "code",
   "execution_count": null,
   "id": "e0ee55f2-efe5-4ce1-bb6e-040d3ee8bef1",
   "metadata": {},
   "outputs": [],
   "source": [
    "# Contar o número de versões\n",
    "num_versions = history_df.count()\n",
    "print(f\"A tabela tem {num_versions} versões.\")"
   ]
  },
  {
   "cell_type": "code",
   "execution_count": null,
   "id": "01dcae99-3456-460a-a5c2-706429e59d95",
   "metadata": {},
   "outputs": [],
   "source": [
    "# Versões disponíveis\n",
    "delta_table.history().show()"
   ]
  },
  {
   "cell_type": "code",
   "execution_count": null,
   "id": "dc6da937-a00a-43a5-b68b-c07c54f07e31",
   "metadata": {},
   "outputs": [],
   "source": [
    "# Acessar a versão mais antiga da tabela (versão 0)\n",
    "print(\"Versão inicial da tabela:\")\n",
    "version_0 = spark.read.format(\"delta\").option(\"versionAsOf\", 0).load(\"file:///util/delta_clientes\")\n",
    "version_0.show(truncate=False)"
   ]
  },
  {
   "cell_type": "code",
   "execution_count": null,
   "id": "a48e29bb-153f-49ca-86bd-6324c60072be",
   "metadata": {},
   "outputs": [],
   "source": [
    "print(\"Versão 1 da tabela:\")\n",
    "version_1 = spark.read.format(\"delta\").option(\"versionAsOf\", 1).load(\"file:///util/delta_clientes\")\n",
    "version_1.show(truncate=False)"
   ]
  },
  {
   "cell_type": "code",
   "execution_count": 69,
   "id": "2fafccb5-3a69-4fd4-8e1d-0fdec09250f2",
   "metadata": {},
   "outputs": [],
   "source": [
    "# Adicionar uma coluna que identifica a versão\n",
    "version_0 = version_0.withColumn(\"versao\", lit(0))\n",
    "version_1 = version_1.withColumn(\"versao\", lit(1))\n",
    "\n",
    "# Unir as duas versões\n",
    "changes = version_0.union(version_1)"
   ]
  },
  {
   "cell_type": "code",
   "execution_count": null,
   "id": "965720a0-40da-4038-98c7-4c60586c4cc2",
   "metadata": {},
   "outputs": [],
   "source": [
    "changes.show(truncate=False)"
   ]
  },
  {
   "cell_type": "code",
   "execution_count": null,
   "id": "2ebe94d4-67a9-4bfc-ac37-107b0f23502d",
   "metadata": {},
   "outputs": [],
   "source": [
    "# Pega a diferença\n",
    "changes.groupBy(\"id\", \"nome\") \\\n",
    "       .agg(collect_list(\"versao\").alias(\"versoes\")) \\\n",
    "       .filter(size(\"versoes\") == 1) \\\n",
    "       .show(truncate=False)"
   ]
  },
  {
   "cell_type": "code",
   "execution_count": null,
   "id": "fa9c22c9-9dd2-427d-8945-54f921434f5e",
   "metadata": {},
   "outputs": [],
   "source": [
    "# Carrega a tabela delta\n",
    "version_1 = spark.read.format(\"delta\").option(\"versionAsOf\", 1).load(\"file:///util/delta_clientes\")\n",
    "\n",
    "# Carregar o histórico de alterações da tabela Delta\n",
    "history = delta_table.history()\n",
    "\n",
    "# Selecionar apenas as colunas relevantes\n",
    "formatted_history = history.select(\n",
    "    col(\"version\").alias(\"Versão\"),\n",
    "    col(\"operation\").alias(\"Operação\"),\n",
    "    col(\"operationMetrics\").alias(\"Métricas\"),\n",
    "    col(\"userMetadata\").alias(\"Metadados do Usuário\")\n",
    ")\n",
    "\n",
    "# Mostrar as alterações \n",
    "formatted_history.show(truncate=False)"
   ]
  },
  {
   "cell_type": "code",
   "execution_count": null,
   "id": "cd0e222b-3aa7-4761-ae24-8b1f462d168c",
   "metadata": {},
   "outputs": [],
   "source": [
    "# Consultar uma versão antiga (versão 2)\n",
    "spark.read.format(\"delta\").option(\"versionAsOf\", 2).load(\"file:///util/delta_clientes\").show(truncate=False)"
   ]
  },
  {
   "cell_type": "code",
   "execution_count": null,
   "id": "46244b1f-31b1-4f04-a7bd-4e8723494425",
   "metadata": {},
   "outputs": [],
   "source": [
    "# Atualizar com uma versão antiga\n",
    "old_version = spark.read.format(\"delta\").option(\"versionAsOf\", 2).load(\"file:///util/delta_clientes\")"
   ]
  },
  {
   "cell_type": "code",
   "execution_count": 75,
   "id": "b771e235-c9d6-4107-91d4-6407a3b0f662",
   "metadata": {},
   "outputs": [],
   "source": [
    "# Sobrescrever a tabela principal com a versão 2\n",
    "# Isso vai gerar uma cópia da versão 2 que será agora a versão principal. \n",
    "old_version.write.format(\"delta\").mode(\"overwrite\").option(\"overwriteSchema\", \"true\").save(\"file:///util/delta_clientes\")"
   ]
  },
  {
   "cell_type": "code",
   "execution_count": null,
   "id": "7f67e3a8-9dd0-4262-a729-50b40ad7b1f0",
   "metadata": {},
   "outputs": [],
   "source": [
    "spark.read.format(\"delta\").load(\"file:///util/delta_clientes\").show(truncate=False)"
   ]
  },
  {
   "cell_type": "code",
   "execution_count": null,
   "id": "08eacdaf-3ed8-428a-98dc-d25e55de8459",
   "metadata": {},
   "outputs": [],
   "source": [
    "# Caminho para a tabela Delta\n",
    "delta_table = DeltaTable.forPath(spark, \"file:///util/delta_clientes\")\n",
    "\n",
    "# Obter o histórico completo\n",
    "history_df = delta_table.history()\n",
    "\n",
    "# Contar o número de versões\n",
    "num_versions = history_df.count()\n",
    "print(f\"A tabela tem {num_versions} versões.\")"
   ]
  },
  {
   "cell_type": "markdown",
   "id": "5e7423a8-38d7-40ef-bc9b-f8840fc463ce",
   "metadata": {},
   "source": [
    "## 🧹 Vacuum - Remoção de arquivos obsoletos\n",
    "\n",
    "Por padrão, o Delta Lake define um período mínimo de retenção de 7 dias. Essa regra existe para garantir a integridade de operações como time travel e evitar que dados importantes para transações sejam removidos acidentalmente. Se você quiser diminuir esse tempo, será necessário ajustar a configuração de retenção.\n",
    "\n",
    "Após esse período, versões anteriores dos dados não poderão mais ser acessadas."
   ]
  },
  {
   "cell_type": "code",
   "execution_count": null,
   "id": "f5eab191-9020-407c-b700-757c43679209",
   "metadata": {},
   "outputs": [],
   "source": [
    "spark.sql(\"\"\"\n",
    "ALTER TABLE delta.`file:///util/delta_clientes`\n",
    "SET TBLPROPERTIES ('delta.deletedFileRetentionDuration' = '1 day')\n",
    "\"\"\")"
   ]
  },
  {
   "cell_type": "code",
   "execution_count": null,
   "id": "9061deae-de43-4ebd-9f53-53a9412afafd",
   "metadata": {},
   "outputs": [],
   "source": [
    "delta_table = DeltaTable.forPath(spark, \"file:///util/delta_clientes\")\n",
    "delta_table.detail().select(\"location\", \"properties\").show(truncate=False)"
   ]
  },
  {
   "cell_type": "markdown",
   "id": "786a92b0-811b-4c0a-bff5-9f2076678755",
   "metadata": {},
   "source": [
    "## 🧬 Evolução de Schema"
   ]
  },
  {
   "cell_type": "code",
   "execution_count": 105,
   "id": "7978fa37-4ff6-4276-8038-77f9db89407c",
   "metadata": {},
   "outputs": [],
   "source": [
    "df_novo = spark.createDataFrame([\n",
    "    (4, \"Ana\", \"BA\", 29)\n",
    "], [\"id\", \"nome\", \"estado\", \"idade\"])\n",
    "\n",
    "df_novo.write.format(\"delta\").mode(\"append\") \\\n",
    "    .option(\"mergeSchema\", \"true\") \\\n",
    "    .save(\"file:///util/delta_clientes\")"
   ]
  },
  {
   "cell_type": "code",
   "execution_count": null,
   "id": "c509bbd2-c306-4215-a068-322079371e31",
   "metadata": {},
   "outputs": [],
   "source": [
    "delta_table = DeltaTable.forPath(spark, \"file:///util/delta_clientes\")\n",
    "print(\"Após inserção de novos registros:\")\n",
    "delta_table.toDF().show(truncate=False)"
   ]
  },
  {
   "cell_type": "markdown",
   "id": "4d1d11c8-36a8-4dae-a548-8a4271cc8c25",
   "metadata": {},
   "source": [
    "## 🗂️ Particionamento"
   ]
  },
  {
   "cell_type": "code",
   "execution_count": null,
   "id": "f8f2e18b-be6a-41b1-b849-3d66d0828ca3",
   "metadata": {},
   "outputs": [],
   "source": [
    "## Criando um particionamento por estado\n",
    "df_partition = spark.createDataFrame([\n",
    "    (10, \"Lucas\", \"SP\"),\n",
    "    (11, \"Carla\", \"SP\"),\n",
    "    (12, \"Rafa\", \"BA\")\n",
    "], [\"id\", \"nome\", \"estado\"])\n",
    "\n",
    "df_partition.write.format(\"delta\").mode(\"overwrite\").partitionBy(\"estado\").save(\"file:///util/particionados\")"
   ]
  },
  {
   "cell_type": "code",
   "execution_count": null,
   "id": "2ffb5a12-d067-4c56-be0a-36d3c3d95971",
   "metadata": {},
   "outputs": [],
   "source": [
    "df_partition = DeltaTable.forPath(spark, \"file:///util/delta_clientes/particionados\")\n",
    "print(\"Após inserção de novos registros:\")\n",
    "df_partition.toDF().show(truncate=False)"
   ]
  },
  {
   "cell_type": "code",
   "execution_count": null,
   "id": "e0539c2b-9d7a-40b9-9e42-07151bcd6b17",
   "metadata": {},
   "outputs": [],
   "source": [
    "# Definir o esquema \n",
    "esquema = StructType([\n",
    "    StructField(\"id\", IntegerType(), True),\n",
    "    StructField(\"nome\", StringType(), True),\n",
    "    StructField(\"estado\", StringType(), True),\n",
    "    StructField(\"idade\", IntegerType(), True)\n",
    "])\n",
    "\n",
    "# Ler os dados e ajustar o esquema, se necessário\n",
    "delta_table = spark.read.format(\"delta\").load(\"file:///util/delta_clientes\")\n",
    "delta_table = spark.createDataFrame(delta_table.rdd, esquema)\n",
    "delta_table.show()"
   ]
  },
  {
   "cell_type": "code",
   "execution_count": 121,
   "id": "490fa074-4c9e-4a24-aa84-f927819c2e87",
   "metadata": {},
   "outputs": [],
   "source": [
    "# Finaliza a sessão Spark\n",
    "spark.stop()"
   ]
  }
 ],
 "metadata": {
  "kernelspec": {
   "display_name": "Python 3 (ipykernel)",
   "language": "python",
   "name": "python3"
  },
  "language_info": {
   "codemirror_mode": {
    "name": "ipython",
    "version": 3
   },
   "file_extension": ".py",
   "mimetype": "text/x-python",
   "name": "python",
   "nbconvert_exporter": "python",
   "pygments_lexer": "ipython3",
   "version": "3.10.8"
  }
 },
 "nbformat": 4,
 "nbformat_minor": 5
}
