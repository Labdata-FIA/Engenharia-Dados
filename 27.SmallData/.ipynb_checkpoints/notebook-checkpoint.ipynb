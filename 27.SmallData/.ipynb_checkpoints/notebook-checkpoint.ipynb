{
 "cells": [
  {
   "cell_type": "code",
   "execution_count": null,
   "metadata": {
    "vscode": {
     "languageId": "plaintext"
    }
   },
   "outputs": [],
   "source": [
    "from deltalake.writer import write_deltalake\n",
    "from deltalake import DeltaTable\n",
    "import duckdb\n",
    "from datetime import datetime, timedelta, timezone\n",
    "from zoneinfo import ZoneInfo"
   ]
  },
  {
   "cell_type": "code",
   "execution_count": null,
   "metadata": {
    "vscode": {
     "languageId": "plaintext"
    }
   },
   "outputs": [],
   "source": [
    "db = duckdb.connect(database=':memory:')\n",
    "cn.sql(\"\"\"from duckdb_extensions() \"\"\")"
   ]
  },
  {
   "cell_type": "code",
   "execution_count": null,
   "metadata": {
    "vscode": {
     "languageId": "plaintext"
    }
   },
   "outputs": [],
   "source": [
    "# Criando uma tabela e inserindo dados\n",
    "db.execute(\"\"\"\n",
    "CREATE TABLE clientes (\n",
    "    id INTEGER,\n",
    "    nome TEXT,\n",
    "    idade INTEGER\n",
    ");\n",
    "\"\"\")"
   ]
  },
  {
   "cell_type": "code",
   "execution_count": null,
   "metadata": {
    "vscode": {
     "languageId": "plaintext"
    }
   },
   "outputs": [],
   "source": [
    "db.execute(\"\"\"\n",
    "INSERT INTO clientes VALUES \n",
    "    (1, 'João', 30),\n",
    "    (2, 'Maria', 25),\n",
    "    (3, 'Carlos', 40);\n",
    "\"\"\")\n"
   ]
  },
  {
   "cell_type": "code",
   "execution_count": null,
   "metadata": {
    "vscode": {
     "languageId": "plaintext"
    }
   },
   "outputs": [],
   "source": [
    "# Consultando os dados\n",
    "clientes_df = db.execute(\"SELECT * FROM clientes;\").fetchdf()\n",
    "print(clientes_df)"
   ]
  },
  {
   "cell_type": "code",
   "execution_count": null,
   "metadata": {
    "vscode": {
     "languageId": "plaintext"
    }
   },
   "outputs": [],
   "source": [
    "# Lendo o arquivo Parquet\n",
    "df_parquet = pq.read_table('clientes.parquet').to_pandas()\n",
    "print(df_parquet.head())"
   ]
  },
  {
   "cell_type": "code",
   "execution_count": null,
   "metadata": {
    "vscode": {
     "languageId": "plaintext"
    }
   },
   "outputs": [],
   "source": [
    "CREATE TABLE readings_stg AS \n",
    "    SELECT * \n",
    "    FROM read_json('https://environment.data.gov.uk/flood-monitoring/data/readings');\n",
    "\n",
    "CREATE TABLE measures_stg AS \n",
    "    SELECT * \n",
    "    FROM read_json('https://environment.data.gov.uk/flood-monitoring/id/measures');\n",
    "\n",
    "CREATE TABLE stations_stg AS \n",
    "    SELECT * \n",
    "    FROM read_json('https://environment.data.gov.uk/flood-monitoring/id/stations');\n",
    "\n",
    "CREATE TABLE floods_stg AS \n",
    "    SELECT * \n",
    "    FROM read_json('https://environment.data.gov.uk/flood-monitoring/id/floods');\n",
    "\n",
    "CREATE TABLE floodAreas_stg AS \n",
    "    SELECT * \n",
    "    FROM read_json('https://environment.data.gov.uk/flood-monitoring/id/floodAreas');"
   ]
  },
  {
   "cell_type": "code",
   "execution_count": null,
   "metadata": {
    "vscode": {
     "languageId": "plaintext"
    }
   },
   "outputs": [],
   "source": [
    " show tables;"
   ]
  },
  {
   "cell_type": "code",
   "execution_count": null,
   "metadata": {
    "vscode": {
     "languageId": "plaintext"
    }
   },
   "outputs": [],
   "source": [
    "describe readings_stg;"
   ]
  },
  {
   "cell_type": "code",
   "execution_count": null,
   "metadata": {
    "vscode": {
     "languageId": "plaintext"
    }
   },
   "outputs": [],
   "source": [
    "SELECT\n",
    "      \"r_\\0\": COLUMNS(r.*),\n",
    "      \"m_\\0\": COLUMNS(m.*),\n",
    "      \"s_\\0\": COLUMNS(s.*) \n",
    "       FROM\n",
    "      readings r\n",
    "      INNER JOIN m:measures ON r.measure = m.\"@id\"\n",
    "      INNER JOIN s:stations ON m.station = s.\"@id\"\n",
    "    LIMIT 1;"
   ]
  },
  {
   "cell_type": "code",
   "execution_count": null,
   "metadata": {
    "vscode": {
     "languageId": "plaintext"
    }
   },
   "outputs": [],
   "source": [
    "# Finalizando conexão\n",
    "db.close()"
   ]
  }
 ],
 "metadata": {
  "language_info": {
   "name": "python"
  }
 },
 "nbformat": 4,
 "nbformat_minor": 2
}
