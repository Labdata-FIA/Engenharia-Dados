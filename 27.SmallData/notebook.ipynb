{
 "cells": [
  {
   "cell_type": "code",
   "execution_count": 1,
   "metadata": {
    "vscode": {
     "languageId": "plaintext"
    }
   },
   "outputs": [],
   "source": [
    "import duckdb"
   ]
  },
  {
   "cell_type": "code",
   "execution_count": 3,
   "metadata": {
    "vscode": {
     "languageId": "plaintext"
    }
   },
   "outputs": [],
   "source": [
    "# Conectar ao DuckDB me memória\n",
    "# con = duckdb.connect(database=':memory:')\n",
    "\n",
    "# Conexão com banco de disco\n",
    "con = duckdb.connect(database='data/db.duckdb')\n",
    "\n",
    "#con.sql(\"\"\"from duckdb_extensions() \"\"\")"
   ]
  },
  {
   "cell_type": "markdown",
   "metadata": {},
   "source": [
    "### CSV"
   ]
  },
  {
   "cell_type": "code",
   "execution_count": null,
   "metadata": {
    "vscode": {
     "languageId": "plaintext"
    }
   },
   "outputs": [],
   "source": [
    "# Importar um arquivo CSV para DuckDB\n",
    "con.execute(\"CREATE TABLE covid AS SELECT * FROM read_csv_auto('https://storage.googleapis.com/covid19-open-data/v3/epidemiology.csv')\")\n",
    "\n",
    "covid_df = con.execute(\"SELECT * FROM covid;\").fetchdf()\n",
    "\n",
    "print(covid_df)\n",
    "\n",
    "# Fechar a conexão\n",
    "con.close()\n"
   ]
  },
  {
   "cell_type": "code",
   "execution_count": null,
   "metadata": {},
   "outputs": [],
   "source": [
    "con = duckdb.connect(database='data/db.duckdb')\n",
    "total = con.execute(\"SELECT count(*) as total FROM covid;\").fetchdf()\n",
    "print(total)"
   ]
  },
  {
   "cell_type": "markdown",
   "metadata": {},
   "source": [
    "### Json"
   ]
  },
  {
   "cell_type": "code",
   "execution_count": null,
   "metadata": {
    "vscode": {
     "languageId": "plaintext"
    }
   },
   "outputs": [],
   "source": [
    "con = duckdb.connect(database='data/db.duckdb')\n",
    "\n",
    "# Importar um arquivo Json para DuckDB\n",
    "con.execute(\"CREATE TABLE alunos AS SELECT * FROM read_json_auto('data/alunos.json')\")\n",
    "\n",
    "result_df = con.sql(\"SELECT * FROM alunos\").fetchdf()\n",
    "print(result_df)\n",
    "\n",
    "# Fechar a conexão\n",
    "con.close()\n"
   ]
  },
  {
   "cell_type": "markdown",
   "metadata": {},
   "source": [
    "### Parquet"
   ]
  },
  {
   "cell_type": "code",
   "execution_count": null,
   "metadata": {
    "vscode": {
     "languageId": "plaintext"
    }
   },
   "outputs": [],
   "source": [
    "con = duckdb.connect(database='data/db.duckdb')\n",
    "\n",
    "# Importar um arquivo Parquet para DuckDB\n",
    "con.execute(\"CREATE TABLE vendas AS SELECT * FROM read_parquet('data/vendas.parquet')\")\n",
    "# Realizar algumas consultas \n",
    "vendas_df = con.sql(\"SELECT * FROM vendas\").fetchdf()\n",
    "\n",
    "# Exibir o resultado em formato de DataFrame\n",
    "print(vendas_df)\n",
    "\n",
    "# Fechar a conexão\n",
    "con.close()\n"
   ]
  },
  {
   "cell_type": "code",
   "execution_count": null,
   "metadata": {},
   "outputs": [],
   "source": [
    "con = duckdb.connect(database='data/db.duckdb')\n",
    "tables = con.execute(\"show tables;\").fetchdf()\n",
    "print(tables);\n",
    "con.close()"
   ]
  },
  {
   "cell_type": "markdown",
   "metadata": {},
   "source": [
    "### MinIO"
   ]
  },
  {
   "cell_type": "code",
   "execution_count": null,
   "metadata": {},
   "outputs": [],
   "source": [
    "\n",
    "con.sql(\"INSTALL httpfs;\")\n",
    "con.sql(\"LOAD httpfs;\")"
   ]
  },
  {
   "cell_type": "code",
   "execution_count": null,
   "metadata": {},
   "outputs": [],
   "source": [
    "con.sql(\"\"\"CREATE SECRET secret_minio  (\n",
    "             TYPE S3,\n",
    "                KEY_ID 'cursolab',\n",
    "                SECRET 'cursolab',\n",
    "                REGION 'us-east-1',\n",
    "                ENDPOINT 'minio:9000',\n",
    "                URL_STYLE 'path',\n",
    "                USE_SSL false\n",
    "            );\"\"\"\n",
    "        )"
   ]
  },
  {
   "cell_type": "code",
   "execution_count": null,
   "metadata": {},
   "outputs": [],
   "source": [
    "result_df = con.sql(\"select * from read_parquet('s3://raw/vendas.parquet')\").fetchdf()\n",
    "print(result_df)"
   ]
  },
  {
   "cell_type": "code",
   "execution_count": null,
   "metadata": {},
   "outputs": [],
   "source": [
    "!python -m streamlit run streamlit_app.py"
   ]
  },
  {
   "cell_type": "code",
   "execution_count": null,
   "metadata": {},
   "outputs": [],
   "source": []
  }
 ],
 "metadata": {
  "kernelspec": {
   "display_name": "Python 3 (ipykernel)",
   "language": "python",
   "name": "python3"
  },
  "language_info": {
   "codemirror_mode": {
    "name": "ipython",
    "version": 3
   },
   "file_extension": ".py",
   "mimetype": "text/x-python",
   "name": "python",
   "nbconvert_exporter": "python",
   "pygments_lexer": "ipython3",
   "version": "3.11.6"
  }
 },
 "nbformat": 4,
 "nbformat_minor": 4
}
