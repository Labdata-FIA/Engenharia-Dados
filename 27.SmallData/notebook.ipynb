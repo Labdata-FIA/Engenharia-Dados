{
 "cells": [
  {
   "cell_type": "code",
<<<<<<< HEAD
   "execution_count": 1,
=======
   "execution_count": null,
>>>>>>> 221018b5b4260b941b5cb5d12278394d8df5ceaa
   "metadata": {
    "vscode": {
     "languageId": "plaintext"
    }
   },
   "outputs": [],
   "source": [
    "import duckdb"
   ]
  },
  {
   "cell_type": "code",
<<<<<<< HEAD
=======
   "execution_count": 2,
   "metadata": {
    "vscode": {
     "languageId": "plaintext"
    }
   },
   "outputs": [
    {
     "data": {
      "text/plain": [
       "┌──────────────────┬─────────┬───────────┬──────────────┬────────────────────────────────────────────────────────────────────────────────────┬───────────────────┬───────────────────┬───────────────────┬────────────────┐\n",
       "│  extension_name  │ loaded  │ installed │ install_path │                                    description                                     │      aliases      │ extension_version │   install_mode    │ installed_from │\n",
       "│     varchar      │ boolean │  boolean  │   varchar    │                                      varchar                                       │     varchar[]     │      varchar      │      varchar      │    varchar     │\n",
       "├──────────────────┼─────────┼───────────┼──────────────┼────────────────────────────────────────────────────────────────────────────────────┼───────────────────┼───────────────────┼───────────────────┼────────────────┤\n",
       "│ autocomplete     │ false   │ false     │              │ Adds support for autocomplete in the shell                                         │ []                │                   │ NOT_INSTALLED     │                │\n",
       "│ aws              │ false   │ false     │              │ Provides features that depend on the AWS SDK                                       │ []                │                   │ NOT_INSTALLED     │                │\n",
       "│ azure            │ false   │ false     │              │ Adds a filesystem abstraction for Azure blob storage to DuckDB                     │ []                │                   │ NOT_INSTALLED     │                │\n",
       "│ core_functions   │ true    │ true      │ (BUILT-IN)   │ Core function library                                                              │ []                │                   │ STATICALLY_LINKED │                │\n",
       "│ delta            │ false   │ false     │              │ Adds support for Delta Lake                                                        │ []                │                   │ NOT_INSTALLED     │                │\n",
       "│ ducklake         │ false   │ false     │              │ Adds support for DuckLake, SQL as a Lakehouse Format                               │ []                │                   │ NOT_INSTALLED     │                │\n",
       "│ encodings        │ false   │ false     │              │ All unicode encodings to UTF-8                                                     │ []                │                   │ NOT_INSTALLED     │                │\n",
       "│ excel            │ false   │ false     │              │ Adds support for Excel-like format strings                                         │ []                │                   │ NOT_INSTALLED     │                │\n",
       "│ fts              │ false   │ false     │              │ Adds support for Full-Text Search Indexes                                          │ []                │                   │ NOT_INSTALLED     │                │\n",
       "│ httpfs           │ false   │ false     │              │ Adds support for reading and writing files over a HTTP(S) connection               │ [http, https, s3] │                   │ NOT_INSTALLED     │                │\n",
       "│   ·              │   ·     │   ·       │      ·       │                       ·                                                            │  ·                │         ·         │       ·           │       ·        │\n",
       "│   ·              │   ·     │   ·       │      ·       │                       ·                                                            │  ·                │         ·         │       ·           │       ·        │\n",
       "│   ·              │   ·     │   ·       │      ·       │                       ·                                                            │  ·                │         ·         │       ·           │       ·        │\n",
       "│ motherduck       │ false   │ false     │              │ Enables motherduck integration with the system                                     │ [md]              │                   │ NOT_INSTALLED     │                │\n",
       "│ mysql_scanner    │ false   │ false     │              │ Adds support for connecting to a MySQL database                                    │ [mysql]           │                   │ NOT_INSTALLED     │                │\n",
       "│ parquet          │ true    │ true      │ (BUILT-IN)   │ Adds support for reading and writing parquet files                                 │ []                │                   │ STATICALLY_LINKED │                │\n",
       "│ postgres_scanner │ false   │ false     │              │ Adds support for connecting to a Postgres database                                 │ [postgres]        │                   │ NOT_INSTALLED     │                │\n",
       "│ spatial          │ false   │ false     │              │ Geospatial extension that adds support for working with spatial data and functions │ []                │                   │ NOT_INSTALLED     │                │\n",
       "│ sqlite_scanner   │ false   │ false     │              │ Adds support for reading and writing SQLite database files                         │ [sqlite, sqlite3] │                   │ NOT_INSTALLED     │                │\n",
       "│ tpcds            │ false   │ false     │              │ Adds TPC-DS data generation and query support                                      │ []                │                   │ NOT_INSTALLED     │                │\n",
       "│ tpch             │ false   │ false     │              │ Adds TPC-H data generation and query support                                       │ []                │                   │ NOT_INSTALLED     │                │\n",
       "│ ui               │ false   │ false     │              │ Adds local UI for DuckDB                                                           │ []                │                   │ NOT_INSTALLED     │                │\n",
       "│ vss              │ false   │ false     │              │ Adds indexing support to accelerate Vector Similarity Search                       │ []                │                   │ NOT_INSTALLED     │                │\n",
       "├──────────────────┴─────────┴───────────┴──────────────┴────────────────────────────────────────────────────────────────────────────────────┴───────────────────┴───────────────────┴───────────────────┴────────────────┤\n",
       "│ 25 rows (20 shown)                                                                                                                                                                                            9 columns │\n",
       "└─────────────────────────────────────────────────────────────────────────────────────────────────────────────────────────────────────────────────────────────────────────────────────────────────────────────────────────┘"
      ]
     },
     "execution_count": 2,
     "metadata": {},
     "output_type": "execute_result"
    }
   ],
   "source": [
    "# Conectar ao DuckDB me memória\n",
    "# con = duckdb.connect(database=':memory:')\n",
    "\n",
    "# Conexão com banco de disco\n",
    "con = duckdb.connect(database='data/db.duckdb')\n",
    "\n",
    "con.sql(\"\"\"from duckdb_extensions() \"\"\")"
   ]
  },
  {
   "cell_type": "markdown",
   "metadata": {},
   "source": [
    "### CSV"
   ]
  },
  {
   "cell_type": "code",
>>>>>>> 221018b5b4260b941b5cb5d12278394d8df5ceaa
   "execution_count": 3,
   "metadata": {
    "vscode": {
     "languageId": "plaintext"
    }
   },
<<<<<<< HEAD
   "outputs": [],
   "source": [
    "# Conectar ao DuckDB me memória\n",
    "# con = duckdb.connect(database=':memory:')\n",
    "\n",
    "# Conexão com banco de disco\n",
    "con = duckdb.connect(database='data/db.duckdb')\n",
    "\n",
    "#con.sql(\"\"\"from duckdb_extensions() \"\"\")"
   ]
  },
  {
   "cell_type": "markdown",
   "metadata": {},
   "source": [
    "### CSV"
=======
   "outputs": [
    {
     "data": {
      "application/vnd.jupyter.widget-view+json": {
       "model_id": "daf367c192ee4587abb7ceb7f0c1d1ff",
       "version_major": 2,
       "version_minor": 0
      },
      "text/plain": [
       "FloatProgress(value=0.0, layout=Layout(width='auto'), style=ProgressStyle(bar_color='black'))"
      ]
     },
     "metadata": {},
     "output_type": "display_data"
    },
    {
     "data": {
      "application/vnd.jupyter.widget-view+json": {
       "model_id": "0d236b44a3b341d483d942818340c884",
       "version_major": 2,
       "version_minor": 0
      },
      "text/plain": [
       "FloatProgress(value=0.0, layout=Layout(width='auto'), style=ProgressStyle(bar_color='black'))"
      ]
     },
     "metadata": {},
     "output_type": "display_data"
    },
    {
     "name": "stdout",
     "output_type": "stream",
     "text": [
      "               date location_key  new_confirmed  new_deceased  new_recovered  \\\n",
      "0        2020-01-01           AD              0             0           <NA>   \n",
      "1        2020-01-02           AD              0             0           <NA>   \n",
      "2        2020-01-03           AD              0             0           <NA>   \n",
      "3        2020-01-04           AD              0             0           <NA>   \n",
      "4        2020-01-05           AD              0             0           <NA>   \n",
      "...             ...          ...            ...           ...            ...   \n",
      "12525820 2022-09-09           ZW             11             0           <NA>   \n",
      "12525821 2022-09-10           ZW             18             0           <NA>   \n",
      "12525822 2022-09-11           ZW              0             0           <NA>   \n",
      "12525823 2022-09-12           ZW             51             0           <NA>   \n",
      "12525824 2022-09-13           ZW              0             0           <NA>   \n",
      "\n",
      "          new_tested  cumulative_confirmed  cumulative_deceased  \\\n",
      "0               <NA>                     0                    0   \n",
      "1               <NA>                     0                    0   \n",
      "2               <NA>                     0                    0   \n",
      "3               <NA>                     0                    0   \n",
      "4               <NA>                     0                    0   \n",
      "...              ...                   ...                  ...   \n",
      "12525820        <NA>                256870                 5596   \n",
      "12525821        <NA>                256888                 5596   \n",
      "12525822        <NA>                256888                 5596   \n",
      "12525823        <NA>                256939                 5596   \n",
      "12525824        <NA>                256939                 5596   \n",
      "\n",
      "          cumulative_recovered  cumulative_tested  \n",
      "0                         <NA>               <NA>  \n",
      "1                         <NA>               <NA>  \n",
      "2                         <NA>               <NA>  \n",
      "3                         <NA>               <NA>  \n",
      "4                         <NA>               <NA>  \n",
      "...                        ...                ...  \n",
      "12525820                  <NA>               <NA>  \n",
      "12525821                  <NA>               <NA>  \n",
      "12525822                  <NA>               <NA>  \n",
      "12525823                  <NA>               <NA>  \n",
      "12525824                  <NA>               <NA>  \n",
      "\n",
      "[12525825 rows x 10 columns]\n"
     ]
    }
   ],
   "source": [
    "# Importar um arquivo CSV para DuckDB\n",
    "con.execute(\"CREATE TABLE covid AS SELECT * FROM read_csv_auto('https://storage.googleapis.com/covid19-open-data/v3/epidemiology.csv')\")\n",
    "\n",
    "covid_df = con.execute(\"SELECT * FROM covid;\").fetchdf()\n",
    "\n",
    "print(covid_df)\n",
    "\n",
    "# Fechar a conexão\n",
    "con.close()\n"
>>>>>>> 221018b5b4260b941b5cb5d12278394d8df5ceaa
   ]
  },
  {
   "cell_type": "code",
   "execution_count": null,
<<<<<<< HEAD
=======
   "metadata": {},
   "outputs": [],
   "source": [
    "con.execute(\"SELECT count(*)  FROM covid;\")"
   ]
  },
  {
   "cell_type": "markdown",
   "metadata": {},
   "source": [
    "### Json"
   ]
  },
  {
   "cell_type": "code",
   "execution_count": 5,
>>>>>>> 221018b5b4260b941b5cb5d12278394d8df5ceaa
   "metadata": {
    "vscode": {
     "languageId": "plaintext"
    }
   },
<<<<<<< HEAD
   "outputs": [],
   "source": [
    "# Importar um arquivo CSV para DuckDB\n",
    "con.execute(\"CREATE TABLE covid AS SELECT * FROM read_csv_auto('https://storage.googleapis.com/covid19-open-data/v3/epidemiology.csv')\")\n",
    "\n",
    "covid_df = con.execute(\"SELECT * FROM covid;\").fetchdf()\n",
    "\n",
    "print(covid_df)\n",
    "\n",
    "# Fechar a conexão\n",
    "con.close()\n"
=======
   "outputs": [
    {
     "ename": "CatalogException",
     "evalue": "Catalog Error: Table with name \"alunos\" already exists!",
     "output_type": "error",
     "traceback": [
      "\u001b[0;31m---------------------------------------------------------------------------\u001b[0m",
      "\u001b[0;31mCatalogException\u001b[0m                          Traceback (most recent call last)",
      "Cell \u001b[0;32mIn[5], line 4\u001b[0m\n\u001b[1;32m      1\u001b[0m con \u001b[38;5;241m=\u001b[39m duckdb\u001b[38;5;241m.\u001b[39mconnect(database\u001b[38;5;241m=\u001b[39m\u001b[38;5;124m'\u001b[39m\u001b[38;5;124mdata/db.duckdb\u001b[39m\u001b[38;5;124m'\u001b[39m)\n\u001b[1;32m      3\u001b[0m \u001b[38;5;66;03m# Importar um arquivo Json para DuckDB\u001b[39;00m\n\u001b[0;32m----> 4\u001b[0m \u001b[43mcon\u001b[49m\u001b[38;5;241;43m.\u001b[39;49m\u001b[43mexecute\u001b[49m\u001b[43m(\u001b[49m\u001b[38;5;124;43m\"\u001b[39;49m\u001b[38;5;124;43mCREATE TABLE alunos AS SELECT * FROM read_json_auto(\u001b[39;49m\u001b[38;5;124;43m'\u001b[39;49m\u001b[38;5;124;43mdata/alunos.json\u001b[39;49m\u001b[38;5;124;43m'\u001b[39;49m\u001b[38;5;124;43m)\u001b[39;49m\u001b[38;5;124;43m\"\u001b[39;49m\u001b[43m)\u001b[49m\n\u001b[1;32m      6\u001b[0m result_df \u001b[38;5;241m=\u001b[39m con\u001b[38;5;241m.\u001b[39msql(\u001b[38;5;124m\"\u001b[39m\u001b[38;5;124mSELECT * FROM alunos\u001b[39m\u001b[38;5;124m\"\u001b[39m)\n\u001b[1;32m      7\u001b[0m \u001b[38;5;28mprint\u001b[39m(result_df)\n",
      "\u001b[0;31mCatalogException\u001b[0m: Catalog Error: Table with name \"alunos\" already exists!"
     ]
    }
   ],
   "source": [
    "con = duckdb.connect(database='data/db.duckdb')\n",
    "\n",
    "# Importar um arquivo Json para DuckDB\n",
    "con.execute(\"CREATE TABLE alunos AS SELECT * FROM read_json_auto('data/alunos.json')\")\n",
    "\n",
    "result_df = con.sql(\"SELECT * FROM alunos\")\n",
    "print(result_df)\n",
    "\n",
    "# Fechar a conexão\n",
    "con.close()\n"
   ]
  },
  {
   "cell_type": "markdown",
   "metadata": {},
   "source": [
    "### Parquet"
>>>>>>> 221018b5b4260b941b5cb5d12278394d8df5ceaa
   ]
  },
  {
   "cell_type": "code",
<<<<<<< HEAD
   "execution_count": null,
   "metadata": {},
   "outputs": [],
   "source": [
    "con = duckdb.connect(database='data/db.duckdb')\n",
    "total = con.execute(\"SELECT count(*) as total FROM covid;\").fetchdf()\n",
    "print(total)"
   ]
  },
  {
   "cell_type": "markdown",
   "metadata": {},
   "source": [
    "### Json"
   ]
  },
  {
   "cell_type": "code",
   "execution_count": null,
=======
   "execution_count": 6,
>>>>>>> 221018b5b4260b941b5cb5d12278394d8df5ceaa
   "metadata": {
    "vscode": {
     "languageId": "plaintext"
    }
   },
<<<<<<< HEAD
   "outputs": [],
   "source": [
    "con = duckdb.connect(database='data/db.duckdb')\n",
    "\n",
    "# Importar um arquivo Json para DuckDB\n",
    "con.execute(\"CREATE TABLE alunos AS SELECT * FROM read_json_auto('data/alunos.json')\")\n",
    "\n",
    "result_df = con.sql(\"SELECT * FROM alunos\").fetchdf()\n",
    "print(result_df)\n",
    "\n",
    "# Fechar a conexão\n",
    "con.close()\n"
   ]
  },
  {
   "cell_type": "markdown",
   "metadata": {},
   "source": [
    "### Parquet"
=======
   "outputs": [
    {
     "name": "stdout",
     "output_type": "stream",
     "text": [
      "┌──────────┬────────────┬─────────┬────────────┬────────────────┬─────────────┐\n",
      "│ ID_Venda │ Data_Venda │ Produto │ Quantidade │ Preco_Unitario │ Total_Venda │\n",
      "│  int32   │    date    │ varchar │   int16    │     double     │   double    │\n",
      "├──────────┼────────────┼─────────┼────────────┼────────────────┼─────────────┤\n",
      "│        1 │ 2025-03-01 │ Lápis   │         10 │            1.5 │        15.0 │\n",
      "│        2 │ 2025-03-01 │ Caneta  │          5 │            2.0 │        10.0 │\n",
      "│        3 │ 2025-03-02 │ Caderno │          3 │           15.0 │        45.0 │\n",
      "│        4 │ 2025-03-03 │ Estojo  │          2 │           25.0 │        50.0 │\n",
      "│        5 │ 2025-03-04 │ Livro   │          1 │           30.0 │        30.0 │\n",
      "│        6 │ 2025-03-05 │ Lápis   │          7 │            1.5 │        10.5 │\n",
      "│        7 │ 2025-03-06 │ Caneta  │          8 │            2.0 │        16.0 │\n",
      "│        8 │ 2025-03-07 │ Caderno │          4 │           15.0 │        60.0 │\n",
      "│        9 │ 2025-03-08 │ Estojo  │          3 │           25.0 │        75.0 │\n",
      "│       10 │ 2025-03-09 │ Livro   │          2 │           30.0 │        60.0 │\n",
      "├──────────┴────────────┴─────────┴────────────┴────────────────┴─────────────┤\n",
      "│ 10 rows                                                           6 columns │\n",
      "└─────────────────────────────────────────────────────────────────────────────┘\n",
      "\n"
     ]
    }
   ],
   "source": [
    "con = duckdb.connect(database='data/db.duckdb')\n",
    "\n",
    "# Importar um arquivo Parquet para DuckDB\n",
    "con.execute(\"CREATE TABLE vendas AS SELECT * FROM read_parquet('data/vendas.parquet')\")\n",
    "# Realizar algumas consultas \n",
    "vendas_df = con.sql(\"SELECT * FROM vendas\")\n",
    "\n",
    "# Exibir o resultado em formato de DataFrame\n",
    "print(vendas_df)\n",
    "\n",
    "# Fechar a conexão\n",
    "con.close()\n"
>>>>>>> 221018b5b4260b941b5cb5d12278394d8df5ceaa
   ]
  },
  {
   "cell_type": "code",
<<<<<<< HEAD
   "execution_count": null,
   "metadata": {
    "vscode": {
     "languageId": "plaintext"
    }
   },
   "outputs": [],
   "source": [
    "con = duckdb.connect(database='data/db.duckdb')\n",
    "\n",
    "# Importar um arquivo Parquet para DuckDB\n",
    "con.execute(\"CREATE TABLE vendas AS SELECT * FROM read_parquet('data/vendas.parquet')\")\n",
    "# Realizar algumas consultas \n",
    "vendas_df = con.sql(\"SELECT * FROM vendas\").fetchdf()\n",
    "\n",
    "# Exibir o resultado em formato de DataFrame\n",
    "print(vendas_df)\n",
    "\n",
    "# Fechar a conexão\n",
    "con.close()\n"
   ]
  },
  {
   "cell_type": "code",
   "execution_count": null,
   "metadata": {},
   "outputs": [],
   "source": [
    "con = duckdb.connect(database='data/db.duckdb')\n",
    "tables = con.execute(\"show tables;\").fetchdf()\n",
    "print(tables);\n",
    "con.close()"
   ]
  },
  {
   "cell_type": "markdown",
   "metadata": {},
   "source": [
    "### MinIO"
=======
   "execution_count": 7,
   "metadata": {},
   "outputs": [
    {
     "name": "stdout",
     "output_type": "stream",
     "text": [
      "     name\n",
      "0  alunos\n",
      "1   covid\n",
      "2  vendas\n"
     ]
    }
   ],
   "source": [
    "con = duckdb.connect(database='data/db.duckdb')\n",
    "tables = con.execute(\"show tables;\").fetchdf()\n",
    "print(tables);"
>>>>>>> 221018b5b4260b941b5cb5d12278394d8df5ceaa
   ]
  },
  {
   "cell_type": "code",
<<<<<<< HEAD
   "execution_count": null,
   "metadata": {},
   "outputs": [],
   "source": [
    "\n",
    "con.sql(\"INSTALL httpfs;\")\n",
    "con.sql(\"LOAD httpfs;\")"
   ]
  },
  {
   "cell_type": "code",
   "execution_count": null,
   "metadata": {},
   "outputs": [],
   "source": [
    "con.sql(\"\"\"CREATE SECRET secret_minio  (\n",
    "             TYPE S3,\n",
    "                KEY_ID 'cursolab',\n",
    "                SECRET 'cursolab',\n",
    "                REGION 'us-east-1',\n",
    "                ENDPOINT 'minio:9000',\n",
    "                URL_STYLE 'path',\n",
    "                USE_SSL false\n",
    "            );\"\"\"\n",
    "        )"
   ]
  },
  {
   "cell_type": "code",
   "execution_count": null,
   "metadata": {},
   "outputs": [],
   "source": [
    "result_df = con.sql(\"select * from read_parquet('s3://raw/vendas.parquet')\").fetchdf()\n",
    "print(result_df)"
   ]
  },
  {
   "cell_type": "code",
   "execution_count": null,
   "metadata": {},
   "outputs": [],
   "source": [
    "!python -m streamlit run streamlit_app.py"
=======
   "execution_count": 8,
   "metadata": {},
   "outputs": [],
   "source": [
    "con.close()"
   ]
  },
  {
   "cell_type": "code",
   "execution_count": null,
   "metadata": {},
   "outputs": [
    {
     "name": "stdout",
     "output_type": "stream",
     "text": [
      "\n",
      "Collecting usage statistics. To deactivate, set browser.gatherUsageStats to false.\n",
      "\u001b[0m\n",
      "\u001b[0m\n",
      "\u001b[34m\u001b[1m  You can now view your Streamlit app in your browser.\u001b[0m\n",
      "\u001b[0m\n",
      "\u001b[34m  Local URL: \u001b[0m\u001b[1mhttp://localhost:8501\u001b[0m\n",
      "\u001b[34m  Network URL: \u001b[0m\u001b[1mhttp://172.21.0.3:8501\u001b[0m\n",
      "\u001b[34m  External URL: \u001b[0m\u001b[1mhttp://179.87.173.146:8501\u001b[0m\n",
      "\u001b[0m\n"
     ]
    }
   ],
   "source": [
    "!python -m streamlit run streamlit_app.py"
   ]
  },
  {
   "cell_type": "code",
   "execution_count": null,
   "metadata": {},
   "outputs": [],
   "source": [
    "INSTALL httpfs;"
>>>>>>> 221018b5b4260b941b5cb5d12278394d8df5ceaa
   ]
  },
  {
   "cell_type": "code",
   "execution_count": null,
   "metadata": {},
   "outputs": [],
   "source": []
  }
 ],
 "metadata": {
  "kernelspec": {
   "display_name": "Python 3 (ipykernel)",
   "language": "python",
   "name": "python3"
  },
  "language_info": {
   "codemirror_mode": {
    "name": "ipython",
    "version": 3
   },
   "file_extension": ".py",
   "mimetype": "text/x-python",
   "name": "python",
   "nbconvert_exporter": "python",
   "pygments_lexer": "ipython3",
   "version": "3.11.6"
  }
 },
 "nbformat": 4,
 "nbformat_minor": 4
}
